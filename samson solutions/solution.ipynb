{
 "cells": [
  {
   "cell_type": "code",
   "execution_count": 1,
   "id": "60e4dfe0-55de-4838-b0e5-7980ce35eaec",
   "metadata": {},
   "outputs": [],
   "source": [
    "#import libraries\n",
    "import pandas as pd\n",
    "import numpy as np\n",
    "from functions import *\n",
    "import seaborn as sns\n",
    "import matplotlib.pyplot as plt\n",
    "import category_encoders as ce\n",
    "\n",
    "\n",
    "from sklearn.model_selection import train_test_split\n",
    "from sklearn.pipeline import Pipeline\n",
    "from sklearn.linear_model import LinearRegression\n",
    "from sklearn.preprocessing import StandardScaler,Normalizer,LabelEncoder\n",
    "from sklearn.compose import ColumnTransformer\n",
    "\n",
    "from sklearn.ensemble import RandomForestRegressor\n",
    "import lightgbm as lgb\n",
    "\n",
    "import warnings\n",
    "warnings.filterwarnings('ignore')"
   ]
  },
  {
   "cell_type": "code",
   "execution_count": 2,
   "id": "80cffd4f-e2e3-4def-96ec-3d7cd8f52828",
   "metadata": {},
   "outputs": [
    {
     "data": {
      "text/html": [
       "<div>\n",
       "<style scoped>\n",
       "    .dataframe tbody tr th:only-of-type {\n",
       "        vertical-align: middle;\n",
       "    }\n",
       "\n",
       "    .dataframe tbody tr th {\n",
       "        vertical-align: top;\n",
       "    }\n",
       "\n",
       "    .dataframe thead th {\n",
       "        text-align: right;\n",
       "    }\n",
       "</style>\n",
       "<table border=\"1\" class=\"dataframe\">\n",
       "  <thead>\n",
       "    <tr style=\"text-align: right;\">\n",
       "      <th></th>\n",
       "      <th>Date</th>\n",
       "      <th>Store</th>\n",
       "      <th>DayOfWeek</th>\n",
       "      <th>Sales</th>\n",
       "      <th>Customers</th>\n",
       "      <th>Open</th>\n",
       "      <th>Promo</th>\n",
       "      <th>StateHoliday</th>\n",
       "      <th>SchoolHoliday</th>\n",
       "    </tr>\n",
       "  </thead>\n",
       "  <tbody>\n",
       "    <tr>\n",
       "      <th>0</th>\n",
       "      <td>2013-01-01</td>\n",
       "      <td>1115.0</td>\n",
       "      <td>2.0</td>\n",
       "      <td>0.0</td>\n",
       "      <td>0.0</td>\n",
       "      <td>0.0</td>\n",
       "      <td>0.0</td>\n",
       "      <td>a</td>\n",
       "      <td>1.0</td>\n",
       "    </tr>\n",
       "    <tr>\n",
       "      <th>1</th>\n",
       "      <td>2013-01-01</td>\n",
       "      <td>379.0</td>\n",
       "      <td>2.0</td>\n",
       "      <td>0.0</td>\n",
       "      <td>0.0</td>\n",
       "      <td>0.0</td>\n",
       "      <td>0.0</td>\n",
       "      <td>a</td>\n",
       "      <td>1.0</td>\n",
       "    </tr>\n",
       "    <tr>\n",
       "      <th>2</th>\n",
       "      <td>2013-01-01</td>\n",
       "      <td>378.0</td>\n",
       "      <td>2.0</td>\n",
       "      <td>0.0</td>\n",
       "      <td>0.0</td>\n",
       "      <td>0.0</td>\n",
       "      <td>0.0</td>\n",
       "      <td>a</td>\n",
       "      <td>1.0</td>\n",
       "    </tr>\n",
       "    <tr>\n",
       "      <th>3</th>\n",
       "      <td>2013-01-01</td>\n",
       "      <td>377.0</td>\n",
       "      <td>2.0</td>\n",
       "      <td>0.0</td>\n",
       "      <td>0.0</td>\n",
       "      <td>0.0</td>\n",
       "      <td>0.0</td>\n",
       "      <td>a</td>\n",
       "      <td>1.0</td>\n",
       "    </tr>\n",
       "    <tr>\n",
       "      <th>4</th>\n",
       "      <td>2013-01-01</td>\n",
       "      <td>376.0</td>\n",
       "      <td>2.0</td>\n",
       "      <td>0.0</td>\n",
       "      <td>0.0</td>\n",
       "      <td>0.0</td>\n",
       "      <td>0.0</td>\n",
       "      <td>a</td>\n",
       "      <td>1.0</td>\n",
       "    </tr>\n",
       "  </tbody>\n",
       "</table>\n",
       "</div>"
      ],
      "text/plain": [
       "         Date   Store  DayOfWeek  Sales  Customers  Open  Promo StateHoliday  \\\n",
       "0  2013-01-01  1115.0        2.0    0.0        0.0   0.0    0.0            a   \n",
       "1  2013-01-01   379.0        2.0    0.0        0.0   0.0    0.0            a   \n",
       "2  2013-01-01   378.0        2.0    0.0        0.0   0.0    0.0            a   \n",
       "3  2013-01-01   377.0        2.0    0.0        0.0   0.0    0.0            a   \n",
       "4  2013-01-01   376.0        2.0    0.0        0.0   0.0    0.0            a   \n",
       "\n",
       "   SchoolHoliday  \n",
       "0            1.0  \n",
       "1            1.0  \n",
       "2            1.0  \n",
       "3            1.0  \n",
       "4            1.0  "
      ]
     },
     "execution_count": 2,
     "metadata": {},
     "output_type": "execute_result"
    }
   ],
   "source": [
    "#load in the dataset\n",
    "df = pd.read_csv('./mdata/train.csv')\n",
    "df.head()"
   ]
  },
  {
   "cell_type": "code",
   "execution_count": 3,
   "id": "e8e14626-e9d7-4c10-ba54-7b9f942dba55",
   "metadata": {
    "tags": []
   },
   "outputs": [
    {
     "data": {
      "text/plain": [
       "(637774, 9)"
      ]
     },
     "execution_count": 3,
     "metadata": {},
     "output_type": "execute_result"
    }
   ],
   "source": [
    "#check df shape\n",
    "df.shape"
   ]
  },
  {
   "cell_type": "code",
   "execution_count": 4,
   "id": "47ea29e9-1037-4e07-ad68-ae3605631a38",
   "metadata": {
    "tags": []
   },
   "outputs": [
    {
     "data": {
      "text/plain": [
       "1115"
      ]
     },
     "execution_count": 4,
     "metadata": {},
     "output_type": "execute_result"
    }
   ],
   "source": [
    "#check for unique count of Store\n",
    "df.Store.nunique()"
   ]
  },
  {
   "cell_type": "code",
   "execution_count": 5,
   "id": "d4bbce86-20f3-43bc-bf95-f8001703402c",
   "metadata": {
    "tags": []
   },
   "outputs": [],
   "source": [
    "#split df into train and test\n",
    "train = df.iloc[:int(0.7*df.shape[0])]\n",
    "test = df.iloc[int(0.7*df.shape[0]):]"
   ]
  },
  {
   "cell_type": "code",
   "execution_count": 6,
   "id": "f11a36e8-f4be-403c-bebb-a257a5db42b3",
   "metadata": {
    "tags": []
   },
   "outputs": [
    {
     "name": "stdout",
     "output_type": "stream",
     "text": [
      "1115\n",
      "1115\n"
     ]
    }
   ],
   "source": [
    "#check to be sure that every store is represented in train and test\n",
    "print(train.Store.nunique())\n",
    "print(test.Store.nunique())"
   ]
  },
  {
   "cell_type": "code",
   "execution_count": 7,
   "id": "898b3b72-de64-4980-bae5-eb426c72795f",
   "metadata": {
    "tags": []
   },
   "outputs": [
    {
     "data": {
      "text/html": [
       "<div>\n",
       "<style scoped>\n",
       "    .dataframe tbody tr th:only-of-type {\n",
       "        vertical-align: middle;\n",
       "    }\n",
       "\n",
       "    .dataframe tbody tr th {\n",
       "        vertical-align: top;\n",
       "    }\n",
       "\n",
       "    .dataframe thead th {\n",
       "        text-align: right;\n",
       "    }\n",
       "</style>\n",
       "<table border=\"1\" class=\"dataframe\">\n",
       "  <thead>\n",
       "    <tr style=\"text-align: right;\">\n",
       "      <th></th>\n",
       "      <th>Store</th>\n",
       "      <th>StoreType</th>\n",
       "      <th>Assortment</th>\n",
       "      <th>CompetitionDistance</th>\n",
       "      <th>CompetitionOpenSinceMonth</th>\n",
       "      <th>CompetitionOpenSinceYear</th>\n",
       "      <th>Promo2</th>\n",
       "      <th>Promo2SinceWeek</th>\n",
       "      <th>Promo2SinceYear</th>\n",
       "      <th>PromoInterval</th>\n",
       "    </tr>\n",
       "  </thead>\n",
       "  <tbody>\n",
       "    <tr>\n",
       "      <th>0</th>\n",
       "      <td>1</td>\n",
       "      <td>c</td>\n",
       "      <td>a</td>\n",
       "      <td>1270.0</td>\n",
       "      <td>9.0</td>\n",
       "      <td>2008.0</td>\n",
       "      <td>0</td>\n",
       "      <td>NaN</td>\n",
       "      <td>NaN</td>\n",
       "      <td>NaN</td>\n",
       "    </tr>\n",
       "    <tr>\n",
       "      <th>1</th>\n",
       "      <td>2</td>\n",
       "      <td>a</td>\n",
       "      <td>a</td>\n",
       "      <td>570.0</td>\n",
       "      <td>11.0</td>\n",
       "      <td>2007.0</td>\n",
       "      <td>1</td>\n",
       "      <td>13.0</td>\n",
       "      <td>2010.0</td>\n",
       "      <td>Jan,Apr,Jul,Oct</td>\n",
       "    </tr>\n",
       "    <tr>\n",
       "      <th>2</th>\n",
       "      <td>3</td>\n",
       "      <td>a</td>\n",
       "      <td>a</td>\n",
       "      <td>14130.0</td>\n",
       "      <td>12.0</td>\n",
       "      <td>2006.0</td>\n",
       "      <td>1</td>\n",
       "      <td>14.0</td>\n",
       "      <td>2011.0</td>\n",
       "      <td>Jan,Apr,Jul,Oct</td>\n",
       "    </tr>\n",
       "    <tr>\n",
       "      <th>3</th>\n",
       "      <td>4</td>\n",
       "      <td>c</td>\n",
       "      <td>c</td>\n",
       "      <td>620.0</td>\n",
       "      <td>9.0</td>\n",
       "      <td>2009.0</td>\n",
       "      <td>0</td>\n",
       "      <td>NaN</td>\n",
       "      <td>NaN</td>\n",
       "      <td>NaN</td>\n",
       "    </tr>\n",
       "    <tr>\n",
       "      <th>4</th>\n",
       "      <td>5</td>\n",
       "      <td>a</td>\n",
       "      <td>a</td>\n",
       "      <td>29910.0</td>\n",
       "      <td>4.0</td>\n",
       "      <td>2015.0</td>\n",
       "      <td>0</td>\n",
       "      <td>NaN</td>\n",
       "      <td>NaN</td>\n",
       "      <td>NaN</td>\n",
       "    </tr>\n",
       "  </tbody>\n",
       "</table>\n",
       "</div>"
      ],
      "text/plain": [
       "   Store StoreType Assortment  CompetitionDistance  CompetitionOpenSinceMonth  \\\n",
       "0      1         c          a               1270.0                        9.0   \n",
       "1      2         a          a                570.0                       11.0   \n",
       "2      3         a          a              14130.0                       12.0   \n",
       "3      4         c          c                620.0                        9.0   \n",
       "4      5         a          a              29910.0                        4.0   \n",
       "\n",
       "   CompetitionOpenSinceYear  Promo2  Promo2SinceWeek  Promo2SinceYear  \\\n",
       "0                    2008.0       0              NaN              NaN   \n",
       "1                    2007.0       1             13.0           2010.0   \n",
       "2                    2006.0       1             14.0           2011.0   \n",
       "3                    2009.0       0              NaN              NaN   \n",
       "4                    2015.0       0              NaN              NaN   \n",
       "\n",
       "     PromoInterval  \n",
       "0              NaN  \n",
       "1  Jan,Apr,Jul,Oct  \n",
       "2  Jan,Apr,Jul,Oct  \n",
       "3              NaN  \n",
       "4              NaN  "
      ]
     },
     "execution_count": 7,
     "metadata": {},
     "output_type": "execute_result"
    }
   ],
   "source": [
    "store = pd.read_csv('./mdata/store.csv')\n",
    "store.head()"
   ]
  },
  {
   "cell_type": "markdown",
   "id": "907fcffe-2339-4184-9a6c-0762c118a816",
   "metadata": {},
   "source": [
    "## Descriptives and Data Cleaning"
   ]
  },
  {
   "cell_type": "markdown",
   "id": "cd53f893-f837-4191-9676-a081ff52589a",
   "metadata": {},
   "source": [
    "### Descriptives\n",
    "\n",
    "Here, We want to explore the dataset, to understand the dataset better. We will make plots,create tables and a dashboard (using data google studio). Some plots created are:  \n",
    "- Plot showing sales distribution.\n",
    "- Heatmap showing column correlations.\n",
    "\n",
    "Note: The dashboard is available at: https://bit.ly/36HcgSA\n",
    "\n",
    "\n",
    "### Data Cleaning\n",
    "Some Cleaning done are:\n",
    "- Remove all instances where customer count is zero\n",
    "- Drop DayofWeek and extract new DayofWeek using datetime\n",
    "- Extract month, year and to columns\n",
    "- Replace Nan's in sales with the average sales per store\n",
    "- Replace all nan's in competitiondistance with average competition distance"
   ]
  },
  {
   "cell_type": "code",
   "execution_count": 8,
   "id": "d5c5526c-71d8-4b43-ace8-1bee12b8bd82",
   "metadata": {
    "tags": []
   },
   "outputs": [
    {
     "data": {
      "text/html": [
       "<div>\n",
       "<style scoped>\n",
       "    .dataframe tbody tr th:only-of-type {\n",
       "        vertical-align: middle;\n",
       "    }\n",
       "\n",
       "    .dataframe tbody tr th {\n",
       "        vertical-align: top;\n",
       "    }\n",
       "\n",
       "    .dataframe thead th {\n",
       "        text-align: right;\n",
       "    }\n",
       "</style>\n",
       "<table border=\"1\" class=\"dataframe\">\n",
       "  <thead>\n",
       "    <tr style=\"text-align: right;\">\n",
       "      <th></th>\n",
       "      <th>Date</th>\n",
       "      <th>Store</th>\n",
       "      <th>DayOfWeek</th>\n",
       "      <th>Sales</th>\n",
       "      <th>Customers</th>\n",
       "      <th>Open</th>\n",
       "      <th>Promo</th>\n",
       "      <th>StateHoliday</th>\n",
       "      <th>SchoolHoliday</th>\n",
       "      <th>StoreType</th>\n",
       "      <th>Assortment</th>\n",
       "      <th>CompetitionDistance</th>\n",
       "      <th>CompetitionOpenSinceMonth</th>\n",
       "      <th>CompetitionOpenSinceYear</th>\n",
       "      <th>Promo2</th>\n",
       "      <th>Promo2SinceWeek</th>\n",
       "      <th>Promo2SinceYear</th>\n",
       "      <th>PromoInterval</th>\n",
       "    </tr>\n",
       "  </thead>\n",
       "  <tbody>\n",
       "    <tr>\n",
       "      <th>1</th>\n",
       "      <td>2013-01-02</td>\n",
       "      <td>1115.0</td>\n",
       "      <td>3.0</td>\n",
       "      <td>3697.0</td>\n",
       "      <td>305.0</td>\n",
       "      <td>1.0</td>\n",
       "      <td>0.0</td>\n",
       "      <td>0</td>\n",
       "      <td>1.0</td>\n",
       "      <td>d</td>\n",
       "      <td>c</td>\n",
       "      <td>5350.0</td>\n",
       "      <td>NaN</td>\n",
       "      <td>NaN</td>\n",
       "      <td>1</td>\n",
       "      <td>22.0</td>\n",
       "      <td>2012.0</td>\n",
       "      <td>Mar,Jun,Sept,Dec</td>\n",
       "    </tr>\n",
       "    <tr>\n",
       "      <th>2</th>\n",
       "      <td>2013-01-03</td>\n",
       "      <td>1115.0</td>\n",
       "      <td>4.0</td>\n",
       "      <td>4297.0</td>\n",
       "      <td>300.0</td>\n",
       "      <td>1.0</td>\n",
       "      <td>0.0</td>\n",
       "      <td>0</td>\n",
       "      <td>1.0</td>\n",
       "      <td>d</td>\n",
       "      <td>c</td>\n",
       "      <td>5350.0</td>\n",
       "      <td>NaN</td>\n",
       "      <td>NaN</td>\n",
       "      <td>1</td>\n",
       "      <td>22.0</td>\n",
       "      <td>2012.0</td>\n",
       "      <td>Mar,Jun,Sept,Dec</td>\n",
       "    </tr>\n",
       "    <tr>\n",
       "      <th>3</th>\n",
       "      <td>2013-01-04</td>\n",
       "      <td>1115.0</td>\n",
       "      <td>5.0</td>\n",
       "      <td>4540.0</td>\n",
       "      <td>326.0</td>\n",
       "      <td>1.0</td>\n",
       "      <td>0.0</td>\n",
       "      <td>0</td>\n",
       "      <td>1.0</td>\n",
       "      <td>d</td>\n",
       "      <td>c</td>\n",
       "      <td>5350.0</td>\n",
       "      <td>NaN</td>\n",
       "      <td>NaN</td>\n",
       "      <td>1</td>\n",
       "      <td>22.0</td>\n",
       "      <td>2012.0</td>\n",
       "      <td>Mar,Jun,Sept,Dec</td>\n",
       "    </tr>\n",
       "    <tr>\n",
       "      <th>4</th>\n",
       "      <td>2013-01-05</td>\n",
       "      <td>1115.0</td>\n",
       "      <td>6.0</td>\n",
       "      <td>4771.0</td>\n",
       "      <td>339.0</td>\n",
       "      <td>1.0</td>\n",
       "      <td>0.0</td>\n",
       "      <td>0</td>\n",
       "      <td>1.0</td>\n",
       "      <td>d</td>\n",
       "      <td>c</td>\n",
       "      <td>5350.0</td>\n",
       "      <td>NaN</td>\n",
       "      <td>NaN</td>\n",
       "      <td>1</td>\n",
       "      <td>22.0</td>\n",
       "      <td>2012.0</td>\n",
       "      <td>Mar,Jun,Sept,Dec</td>\n",
       "    </tr>\n",
       "    <tr>\n",
       "      <th>6</th>\n",
       "      <td>2013-01-07</td>\n",
       "      <td>1115.0</td>\n",
       "      <td>1.0</td>\n",
       "      <td>6905.0</td>\n",
       "      <td>471.0</td>\n",
       "      <td>1.0</td>\n",
       "      <td>1.0</td>\n",
       "      <td>0</td>\n",
       "      <td>1.0</td>\n",
       "      <td>d</td>\n",
       "      <td>c</td>\n",
       "      <td>5350.0</td>\n",
       "      <td>NaN</td>\n",
       "      <td>NaN</td>\n",
       "      <td>1</td>\n",
       "      <td>22.0</td>\n",
       "      <td>2012.0</td>\n",
       "      <td>Mar,Jun,Sept,Dec</td>\n",
       "    </tr>\n",
       "  </tbody>\n",
       "</table>\n",
       "</div>"
      ],
      "text/plain": [
       "         Date   Store  DayOfWeek   Sales  Customers  Open  Promo StateHoliday  \\\n",
       "1  2013-01-02  1115.0        3.0  3697.0      305.0   1.0    0.0            0   \n",
       "2  2013-01-03  1115.0        4.0  4297.0      300.0   1.0    0.0            0   \n",
       "3  2013-01-04  1115.0        5.0  4540.0      326.0   1.0    0.0            0   \n",
       "4  2013-01-05  1115.0        6.0  4771.0      339.0   1.0    0.0            0   \n",
       "6  2013-01-07  1115.0        1.0  6905.0      471.0   1.0    1.0            0   \n",
       "\n",
       "   SchoolHoliday StoreType Assortment  CompetitionDistance  \\\n",
       "1            1.0         d          c               5350.0   \n",
       "2            1.0         d          c               5350.0   \n",
       "3            1.0         d          c               5350.0   \n",
       "4            1.0         d          c               5350.0   \n",
       "6            1.0         d          c               5350.0   \n",
       "\n",
       "   CompetitionOpenSinceMonth  CompetitionOpenSinceYear  Promo2  \\\n",
       "1                        NaN                       NaN       1   \n",
       "2                        NaN                       NaN       1   \n",
       "3                        NaN                       NaN       1   \n",
       "4                        NaN                       NaN       1   \n",
       "6                        NaN                       NaN       1   \n",
       "\n",
       "   Promo2SinceWeek  Promo2SinceYear     PromoInterval  \n",
       "1             22.0           2012.0  Mar,Jun,Sept,Dec  \n",
       "2             22.0           2012.0  Mar,Jun,Sept,Dec  \n",
       "3             22.0           2012.0  Mar,Jun,Sept,Dec  \n",
       "4             22.0           2012.0  Mar,Jun,Sept,Dec  \n",
       "6             22.0           2012.0  Mar,Jun,Sept,Dec  "
      ]
     },
     "execution_count": 8,
     "metadata": {},
     "output_type": "execute_result"
    }
   ],
   "source": [
    "#join train and store together on Stores\n",
    "\n",
    "rs_df = pd.merge(train,store,on='Store',suffixes=('', '_y'))\n",
    "\n",
    "#remove every instance where customer count is zero\n",
    "rs_df = customer_zero(rs_df)\n",
    "\n",
    "rs_df.head()"
   ]
  },
  {
   "cell_type": "code",
   "execution_count": 9,
   "id": "11087c80-1e97-4d48-a4e8-e8777a6253b6",
   "metadata": {
    "tags": []
   },
   "outputs": [
    {
     "data": {
      "text/html": [
       "<div>\n",
       "<style scoped>\n",
       "    .dataframe tbody tr th:only-of-type {\n",
       "        vertical-align: middle;\n",
       "    }\n",
       "\n",
       "    .dataframe tbody tr th {\n",
       "        vertical-align: top;\n",
       "    }\n",
       "\n",
       "    .dataframe thead th {\n",
       "        text-align: right;\n",
       "    }\n",
       "</style>\n",
       "<table border=\"1\" class=\"dataframe\">\n",
       "  <thead>\n",
       "    <tr style=\"text-align: right;\">\n",
       "      <th></th>\n",
       "      <th>Store</th>\n",
       "      <th>DayOfWeek</th>\n",
       "      <th>Sales</th>\n",
       "      <th>Customers</th>\n",
       "      <th>Open</th>\n",
       "      <th>Promo</th>\n",
       "      <th>SchoolHoliday</th>\n",
       "      <th>CompetitionDistance</th>\n",
       "      <th>CompetitionOpenSinceMonth</th>\n",
       "      <th>CompetitionOpenSinceYear</th>\n",
       "      <th>Promo2</th>\n",
       "      <th>Promo2SinceWeek</th>\n",
       "      <th>Promo2SinceYear</th>\n",
       "    </tr>\n",
       "  </thead>\n",
       "  <tbody>\n",
       "    <tr>\n",
       "      <th>count</th>\n",
       "      <td>348356.000000</td>\n",
       "      <td>337879.000000</td>\n",
       "      <td>337923.000000</td>\n",
       "      <td>348356.000000</td>\n",
       "      <td>337857.0</td>\n",
       "      <td>337987.000000</td>\n",
       "      <td>337645.000000</td>\n",
       "      <td>347430.000000</td>\n",
       "      <td>237685.000000</td>\n",
       "      <td>237685.000000</td>\n",
       "      <td>348356.000000</td>\n",
       "      <td>177927.000000</td>\n",
       "      <td>177927.000000</td>\n",
       "    </tr>\n",
       "    <tr>\n",
       "      <th>mean</th>\n",
       "      <td>557.808417</td>\n",
       "      <td>3.522296</td>\n",
       "      <td>6810.080288</td>\n",
       "      <td>756.322518</td>\n",
       "      <td>1.0</td>\n",
       "      <td>0.433150</td>\n",
       "      <td>0.197483</td>\n",
       "      <td>5428.885876</td>\n",
       "      <td>7.229081</td>\n",
       "      <td>2008.675537</td>\n",
       "      <td>0.510762</td>\n",
       "      <td>23.592445</td>\n",
       "      <td>2011.763268</td>\n",
       "    </tr>\n",
       "    <tr>\n",
       "      <th>std</th>\n",
       "      <td>321.616818</td>\n",
       "      <td>1.728383</td>\n",
       "      <td>3103.982879</td>\n",
       "      <td>401.203030</td>\n",
       "      <td>0.0</td>\n",
       "      <td>0.495512</td>\n",
       "      <td>0.398100</td>\n",
       "      <td>7744.499591</td>\n",
       "      <td>3.207989</td>\n",
       "      <td>6.181617</td>\n",
       "      <td>0.499885</td>\n",
       "      <td>14.135934</td>\n",
       "      <td>1.671903</td>\n",
       "    </tr>\n",
       "    <tr>\n",
       "      <th>min</th>\n",
       "      <td>1.000000</td>\n",
       "      <td>1.000000</td>\n",
       "      <td>133.000000</td>\n",
       "      <td>18.000000</td>\n",
       "      <td>1.0</td>\n",
       "      <td>0.000000</td>\n",
       "      <td>0.000000</td>\n",
       "      <td>20.000000</td>\n",
       "      <td>1.000000</td>\n",
       "      <td>1900.000000</td>\n",
       "      <td>0.000000</td>\n",
       "      <td>1.000000</td>\n",
       "      <td>2009.000000</td>\n",
       "    </tr>\n",
       "    <tr>\n",
       "      <th>25%</th>\n",
       "      <td>280.000000</td>\n",
       "      <td>2.000000</td>\n",
       "      <td>4720.000000</td>\n",
       "      <td>510.000000</td>\n",
       "      <td>1.0</td>\n",
       "      <td>0.000000</td>\n",
       "      <td>0.000000</td>\n",
       "      <td>720.000000</td>\n",
       "      <td>4.000000</td>\n",
       "      <td>2006.000000</td>\n",
       "      <td>0.000000</td>\n",
       "      <td>13.000000</td>\n",
       "      <td>2011.000000</td>\n",
       "    </tr>\n",
       "    <tr>\n",
       "      <th>50%</th>\n",
       "      <td>557.000000</td>\n",
       "      <td>4.000000</td>\n",
       "      <td>6214.000000</td>\n",
       "      <td>668.500000</td>\n",
       "      <td>1.0</td>\n",
       "      <td>0.000000</td>\n",
       "      <td>0.000000</td>\n",
       "      <td>2320.000000</td>\n",
       "      <td>8.000000</td>\n",
       "      <td>2010.000000</td>\n",
       "      <td>1.000000</td>\n",
       "      <td>22.000000</td>\n",
       "      <td>2012.000000</td>\n",
       "    </tr>\n",
       "    <tr>\n",
       "      <th>75%</th>\n",
       "      <td>836.000000</td>\n",
       "      <td>5.000000</td>\n",
       "      <td>8186.000000</td>\n",
       "      <td>888.000000</td>\n",
       "      <td>1.0</td>\n",
       "      <td>1.000000</td>\n",
       "      <td>0.000000</td>\n",
       "      <td>6890.000000</td>\n",
       "      <td>10.000000</td>\n",
       "      <td>2013.000000</td>\n",
       "      <td>1.000000</td>\n",
       "      <td>37.000000</td>\n",
       "      <td>2013.000000</td>\n",
       "    </tr>\n",
       "    <tr>\n",
       "      <th>max</th>\n",
       "      <td>1115.000000</td>\n",
       "      <td>7.000000</td>\n",
       "      <td>37646.000000</td>\n",
       "      <td>7388.000000</td>\n",
       "      <td>1.0</td>\n",
       "      <td>1.000000</td>\n",
       "      <td>1.000000</td>\n",
       "      <td>75860.000000</td>\n",
       "      <td>12.000000</td>\n",
       "      <td>2015.000000</td>\n",
       "      <td>1.000000</td>\n",
       "      <td>50.000000</td>\n",
       "      <td>2015.000000</td>\n",
       "    </tr>\n",
       "  </tbody>\n",
       "</table>\n",
       "</div>"
      ],
      "text/plain": [
       "               Store      DayOfWeek          Sales      Customers      Open  \\\n",
       "count  348356.000000  337879.000000  337923.000000  348356.000000  337857.0   \n",
       "mean      557.808417       3.522296    6810.080288     756.322518       1.0   \n",
       "std       321.616818       1.728383    3103.982879     401.203030       0.0   \n",
       "min         1.000000       1.000000     133.000000      18.000000       1.0   \n",
       "25%       280.000000       2.000000    4720.000000     510.000000       1.0   \n",
       "50%       557.000000       4.000000    6214.000000     668.500000       1.0   \n",
       "75%       836.000000       5.000000    8186.000000     888.000000       1.0   \n",
       "max      1115.000000       7.000000   37646.000000    7388.000000       1.0   \n",
       "\n",
       "               Promo  SchoolHoliday  CompetitionDistance  \\\n",
       "count  337987.000000  337645.000000        347430.000000   \n",
       "mean        0.433150       0.197483          5428.885876   \n",
       "std         0.495512       0.398100          7744.499591   \n",
       "min         0.000000       0.000000            20.000000   \n",
       "25%         0.000000       0.000000           720.000000   \n",
       "50%         0.000000       0.000000          2320.000000   \n",
       "75%         1.000000       0.000000          6890.000000   \n",
       "max         1.000000       1.000000         75860.000000   \n",
       "\n",
       "       CompetitionOpenSinceMonth  CompetitionOpenSinceYear         Promo2  \\\n",
       "count              237685.000000             237685.000000  348356.000000   \n",
       "mean                    7.229081               2008.675537       0.510762   \n",
       "std                     3.207989                  6.181617       0.499885   \n",
       "min                     1.000000               1900.000000       0.000000   \n",
       "25%                     4.000000               2006.000000       0.000000   \n",
       "50%                     8.000000               2010.000000       1.000000   \n",
       "75%                    10.000000               2013.000000       1.000000   \n",
       "max                    12.000000               2015.000000       1.000000   \n",
       "\n",
       "       Promo2SinceWeek  Promo2SinceYear  \n",
       "count    177927.000000    177927.000000  \n",
       "mean         23.592445      2011.763268  \n",
       "std          14.135934         1.671903  \n",
       "min           1.000000      2009.000000  \n",
       "25%          13.000000      2011.000000  \n",
       "50%          22.000000      2012.000000  \n",
       "75%          37.000000      2013.000000  \n",
       "max          50.000000      2015.000000  "
      ]
     },
     "execution_count": 9,
     "metadata": {},
     "output_type": "execute_result"
    }
   ],
   "source": [
    "rs_df.describe()"
   ]
  },
  {
   "cell_type": "code",
   "execution_count": 10,
   "id": "bdd97ed9-d152-4878-a63f-9ad42fffb0f9",
   "metadata": {
    "tags": []
   },
   "outputs": [
    {
     "data": {
      "text/html": [
       "<div>\n",
       "<style scoped>\n",
       "    .dataframe tbody tr th:only-of-type {\n",
       "        vertical-align: middle;\n",
       "    }\n",
       "\n",
       "    .dataframe tbody tr th {\n",
       "        vertical-align: top;\n",
       "    }\n",
       "\n",
       "    .dataframe thead tr th {\n",
       "        text-align: left;\n",
       "    }\n",
       "</style>\n",
       "<table border=\"1\" class=\"dataframe\">\n",
       "  <thead>\n",
       "    <tr>\n",
       "      <th></th>\n",
       "      <th>StoreType</th>\n",
       "      <th colspan=\"5\" halign=\"left\">Sales</th>\n",
       "    </tr>\n",
       "    <tr>\n",
       "      <th></th>\n",
       "      <th></th>\n",
       "      <th>mean</th>\n",
       "      <th>amax</th>\n",
       "      <th>amin</th>\n",
       "      <th>std</th>\n",
       "      <th>count</th>\n",
       "    </tr>\n",
       "  </thead>\n",
       "  <tbody>\n",
       "    <tr>\n",
       "      <th>0</th>\n",
       "      <td>a</td>\n",
       "      <td>6828.099918</td>\n",
       "      <td>35697.0</td>\n",
       "      <td>286.0</td>\n",
       "      <td>3279.395262</td>\n",
       "      <td>182199</td>\n",
       "    </tr>\n",
       "    <tr>\n",
       "      <th>1</th>\n",
       "      <td>b</td>\n",
       "      <td>9748.700938</td>\n",
       "      <td>37376.0</td>\n",
       "      <td>1580.0</td>\n",
       "      <td>5240.133108</td>\n",
       "      <td>5972</td>\n",
       "    </tr>\n",
       "    <tr>\n",
       "      <th>2</th>\n",
       "      <td>c</td>\n",
       "      <td>6824.564829</td>\n",
       "      <td>30143.0</td>\n",
       "      <td>133.0</td>\n",
       "      <td>3007.844496</td>\n",
       "      <td>44633</td>\n",
       "    </tr>\n",
       "    <tr>\n",
       "      <th>3</th>\n",
       "      <td>d</td>\n",
       "      <td>6605.749103</td>\n",
       "      <td>37646.0</td>\n",
       "      <td>538.0</td>\n",
       "      <td>2529.467335</td>\n",
       "      <td>105119</td>\n",
       "    </tr>\n",
       "  </tbody>\n",
       "</table>\n",
       "</div>"
      ],
      "text/plain": [
       "  StoreType        Sales                                      \n",
       "                    mean     amax    amin          std   count\n",
       "0         a  6828.099918  35697.0   286.0  3279.395262  182199\n",
       "1         b  9748.700938  37376.0  1580.0  5240.133108    5972\n",
       "2         c  6824.564829  30143.0   133.0  3007.844496   44633\n",
       "3         d  6605.749103  37646.0   538.0  2529.467335  105119"
      ]
     },
     "execution_count": 10,
     "metadata": {},
     "output_type": "execute_result"
    }
   ],
   "source": [
    "rs_df.groupby(['StoreType']).agg({'Sales': [np.mean, np.max, np.min, np.std, 'count']}).reset_index().head(10)"
   ]
  },
  {
   "cell_type": "code",
   "execution_count": 11,
   "id": "7736e335-760c-4659-9c63-8d8c3a7ddfc3",
   "metadata": {
    "tags": []
   },
   "outputs": [
    {
     "data": {
      "text/html": [
       "<div>\n",
       "<style scoped>\n",
       "    .dataframe tbody tr th:only-of-type {\n",
       "        vertical-align: middle;\n",
       "    }\n",
       "\n",
       "    .dataframe tbody tr th {\n",
       "        vertical-align: top;\n",
       "    }\n",
       "\n",
       "    .dataframe thead tr th {\n",
       "        text-align: left;\n",
       "    }\n",
       "</style>\n",
       "<table border=\"1\" class=\"dataframe\">\n",
       "  <thead>\n",
       "    <tr>\n",
       "      <th></th>\n",
       "      <th>Assortment</th>\n",
       "      <th colspan=\"5\" halign=\"left\">Sales</th>\n",
       "    </tr>\n",
       "    <tr>\n",
       "      <th></th>\n",
       "      <th></th>\n",
       "      <th>mean</th>\n",
       "      <th>amax</th>\n",
       "      <th>amin</th>\n",
       "      <th>std</th>\n",
       "      <th>count</th>\n",
       "    </tr>\n",
       "  </thead>\n",
       "  <tbody>\n",
       "    <tr>\n",
       "      <th>0</th>\n",
       "      <td>a</td>\n",
       "      <td>6560.341889</td>\n",
       "      <td>37376.0</td>\n",
       "      <td>297.0</td>\n",
       "      <td>2983.978119</td>\n",
       "      <td>179266</td>\n",
       "    </tr>\n",
       "    <tr>\n",
       "      <th>1</th>\n",
       "      <td>b</td>\n",
       "      <td>7766.766563</td>\n",
       "      <td>22137.0</td>\n",
       "      <td>1580.0</td>\n",
       "      <td>3650.817535</td>\n",
       "      <td>3230</td>\n",
       "    </tr>\n",
       "    <tr>\n",
       "      <th>2</th>\n",
       "      <td>c</td>\n",
       "      <td>7078.241593</td>\n",
       "      <td>37646.0</td>\n",
       "      <td>133.0</td>\n",
       "      <td>3199.666920</td>\n",
       "      <td>155427</td>\n",
       "    </tr>\n",
       "  </tbody>\n",
       "</table>\n",
       "</div>"
      ],
      "text/plain": [
       "  Assortment        Sales                                      \n",
       "                     mean     amax    amin          std   count\n",
       "0          a  6560.341889  37376.0   297.0  2983.978119  179266\n",
       "1          b  7766.766563  22137.0  1580.0  3650.817535    3230\n",
       "2          c  7078.241593  37646.0   133.0  3199.666920  155427"
      ]
     },
     "execution_count": 11,
     "metadata": {},
     "output_type": "execute_result"
    }
   ],
   "source": [
    "rs_df.groupby(['Assortment']).agg({'Sales': [np.mean, np.max, np.min, np.std, 'count']}).reset_index().head(10)"
   ]
  },
  {
   "cell_type": "code",
   "execution_count": 12,
   "id": "653c2b83-2ff9-481a-9642-5ce725620a01",
   "metadata": {
    "tags": []
   },
   "outputs": [
    {
     "data": {
      "text/plain": [
       "(348356, 18)"
      ]
     },
     "execution_count": 12,
     "metadata": {},
     "output_type": "execute_result"
    }
   ],
   "source": [
    "rs_df.shape"
   ]
  },
  {
   "cell_type": "code",
   "execution_count": 13,
   "id": "37e50084-0c95-48c2-815f-52d64408443b",
   "metadata": {
    "tags": []
   },
   "outputs": [],
   "source": [
    "#data cleaning ideas\n",
    "#- check for null values\n",
    "#- first drop all unneccesary data\n",
    "#- make some plots\n",
    "#- if customers is zero, then sales is zero"
   ]
  },
  {
   "cell_type": "code",
   "execution_count": 14,
   "id": "75b5a40a-f8ed-4d51-b64b-384118d93aea",
   "metadata": {
    "tags": []
   },
   "outputs": [
    {
     "data": {
      "text/plain": [
       "Text(0, 0.5, 'Sales')"
      ]
     },
     "execution_count": 14,
     "metadata": {},
     "output_type": "execute_result"
    },
    {
     "data": {
      "image/png": "[encoded data removed]",
      "text/plain": [
       "<Figure size 2400x600 with 1 Axes>"
      ]
     },
     "metadata": {},
     "output_type": "display_data"
    }
   ],
   "source": [
    "#create time series plot with custom line\n",
    "rs_df.plot(x='Date', y='Sales',linewidth=3, color='purple', linestyle='dashed', legend=False,figsize=(24,6))\n",
    "\n",
    "#add title and axis labels to plot\n",
    "\n",
    "plt.title('Sales by Date')\n",
    "plt.xlabel('Date')\n",
    "plt.ylabel('Sales')\n",
    "\n",
    "#Note that in the plot above -- Stores are mixed"
   ]
  },
  {
   "cell_type": "code",
   "execution_count": 15,
   "id": "25d54e3c-b3fc-444d-ad84-e644dd051188",
   "metadata": {
    "tags": []
   },
   "outputs": [
    {
     "data": {
      "image/png": "[encoded data removed]",
      "text/plain": [
       "<Figure size 800x600 with 2 Axes>"
      ]
     },
     "metadata": {},
     "output_type": "display_data"
    }
   ],
   "source": [
    "#plot data-column correlations\n",
    "\n",
    "plt.figure(figsize=(8,6))\n",
    "plt.title('Data Columns correlation')\n",
    "sns.heatmap(rs_df.corr())\n",
    "plt.show()"
   ]
  },
  {
   "cell_type": "code",
   "execution_count": 16,
   "id": "ece4b7e9-e4c5-453c-bc94-b0f27e342913",
   "metadata": {
    "tags": []
   },
   "outputs": [
    {
     "data": {
      "text/plain": [
       "Date                              0\n",
       "Store                             0\n",
       "DayOfWeek                     10477\n",
       "Sales                         10433\n",
       "Customers                         0\n",
       "Open                          10499\n",
       "Promo                         10369\n",
       "StateHoliday                  10575\n",
       "SchoolHoliday                 10711\n",
       "StoreType                         0\n",
       "Assortment                        0\n",
       "CompetitionDistance             926\n",
       "CompetitionOpenSinceMonth    110671\n",
       "CompetitionOpenSinceYear     110671\n",
       "Promo2                            0\n",
       "Promo2SinceWeek              170429\n",
       "Promo2SinceYear              170429\n",
       "PromoInterval                170429\n",
       "dtype: int64"
      ]
     },
     "execution_count": 16,
     "metadata": {},
     "output_type": "execute_result"
    }
   ],
   "source": [
    "rs_df.isnull().sum()"
   ]
  },
  {
   "cell_type": "code",
   "execution_count": 17,
   "id": "ee4c4406-ae2a-4de4-bce7-5634c7a8f4ba",
   "metadata": {
    "tags": []
   },
   "outputs": [
    {
     "data": {
      "text/plain": [
       "array([ 1., nan])"
      ]
     },
     "execution_count": 17,
     "metadata": {},
     "output_type": "execute_result"
    }
   ],
   "source": [
    "#check possible open samples\n",
    "rs_df.Open.unique()"
   ]
  },
  {
   "cell_type": "code",
   "execution_count": 18,
   "id": "f8aabac3-897a-40df-a74c-f1a31b56818f",
   "metadata": {
    "tags": []
   },
   "outputs": [
    {
     "data": {
      "text/plain": [
       "0.0    191588\n",
       "1.0    146399\n",
       "Name: Promo, dtype: int64"
      ]
     },
     "execution_count": 18,
     "metadata": {},
     "output_type": "execute_result"
    }
   ],
   "source": [
    "#check promo value_counts\n",
    "rs_df.Promo.value_counts()"
   ]
  },
  {
   "cell_type": "code",
   "execution_count": 19,
   "id": "5aa86a89-8e13-4724-a896-1351ae2330e1",
   "metadata": {
    "tags": []
   },
   "outputs": [
    {
     "data": {
      "text/plain": [
       "SchoolHoliday\n",
       "0.0              270966\n",
       "1.0               66679\n",
       "dtype: int64"
      ]
     },
     "execution_count": 19,
     "metadata": {},
     "output_type": "execute_result"
    }
   ],
   "source": [
    "rs_df[['SchoolHoliday']].value_counts()"
   ]
  },
  {
   "cell_type": "code",
   "execution_count": 20,
   "id": "2cf30f42-8bf6-43ca-a9d9-022cf8106505",
   "metadata": {
    "tags": []
   },
   "outputs": [],
   "source": [
    "def fixdateofweek(df):\n",
    "    #this function drops the datetime column and creates a new one\n",
    "    df.drop(['DayOfWeek'],axis=1,inplace=True)\n",
    "    \n",
    "    df['DayOfWeek'] = pd.to_datetime(df['Date']).dt.dayofweek\n",
    "    df['month'] = pd.to_datetime(df['Date']).dt.month\n",
    "    df['year'] = pd.to_datetime(df['Date']).dt.year\n",
    "    \n",
    "    df.drop(['Date'],axis=1,inplace=True)\n",
    "    return df\n",
    "\n",
    "#fix dateofweek\n",
    "rs_df = fixdateofweek(rs_df)"
   ]
  },
  {
   "cell_type": "code",
   "execution_count": 21,
   "id": "d1dc28f9-bbcc-4f2f-882e-deac4915c854",
   "metadata": {
    "tags": []
   },
   "outputs": [
    {
     "data": {
      "text/html": [
       "<div>\n",
       "<style scoped>\n",
       "    .dataframe tbody tr th:only-of-type {\n",
       "        vertical-align: middle;\n",
       "    }\n",
       "\n",
       "    .dataframe tbody tr th {\n",
       "        vertical-align: top;\n",
       "    }\n",
       "\n",
       "    .dataframe thead th {\n",
       "        text-align: right;\n",
       "    }\n",
       "</style>\n",
       "<table border=\"1\" class=\"dataframe\">\n",
       "  <thead>\n",
       "    <tr style=\"text-align: right;\">\n",
       "      <th></th>\n",
       "      <th>Store</th>\n",
       "      <th>Sales</th>\n",
       "      <th>Customers</th>\n",
       "      <th>Open</th>\n",
       "      <th>Promo</th>\n",
       "      <th>StateHoliday</th>\n",
       "      <th>SchoolHoliday</th>\n",
       "      <th>StoreType</th>\n",
       "      <th>Assortment</th>\n",
       "      <th>CompetitionDistance</th>\n",
       "      <th>CompetitionOpenSinceMonth</th>\n",
       "      <th>CompetitionOpenSinceYear</th>\n",
       "      <th>Promo2</th>\n",
       "      <th>Promo2SinceWeek</th>\n",
       "      <th>Promo2SinceYear</th>\n",
       "      <th>PromoInterval</th>\n",
       "      <th>DayOfWeek</th>\n",
       "      <th>month</th>\n",
       "      <th>year</th>\n",
       "    </tr>\n",
       "  </thead>\n",
       "  <tbody>\n",
       "    <tr>\n",
       "      <th>1</th>\n",
       "      <td>1115.0</td>\n",
       "      <td>3697.0</td>\n",
       "      <td>305.0</td>\n",
       "      <td>1.0</td>\n",
       "      <td>0.0</td>\n",
       "      <td>0</td>\n",
       "      <td>1.0</td>\n",
       "      <td>d</td>\n",
       "      <td>c</td>\n",
       "      <td>5350.0</td>\n",
       "      <td>NaN</td>\n",
       "      <td>NaN</td>\n",
       "      <td>1</td>\n",
       "      <td>22.0</td>\n",
       "      <td>2012.0</td>\n",
       "      <td>Mar,Jun,Sept,Dec</td>\n",
       "      <td>2</td>\n",
       "      <td>1</td>\n",
       "      <td>2013</td>\n",
       "    </tr>\n",
       "    <tr>\n",
       "      <th>2</th>\n",
       "      <td>1115.0</td>\n",
       "      <td>4297.0</td>\n",
       "      <td>300.0</td>\n",
       "      <td>1.0</td>\n",
       "      <td>0.0</td>\n",
       "      <td>0</td>\n",
       "      <td>1.0</td>\n",
       "      <td>d</td>\n",
       "      <td>c</td>\n",
       "      <td>5350.0</td>\n",
       "      <td>NaN</td>\n",
       "      <td>NaN</td>\n",
       "      <td>1</td>\n",
       "      <td>22.0</td>\n",
       "      <td>2012.0</td>\n",
       "      <td>Mar,Jun,Sept,Dec</td>\n",
       "      <td>3</td>\n",
       "      <td>1</td>\n",
       "      <td>2013</td>\n",
       "    </tr>\n",
       "    <tr>\n",
       "      <th>3</th>\n",
       "      <td>1115.0</td>\n",
       "      <td>4540.0</td>\n",
       "      <td>326.0</td>\n",
       "      <td>1.0</td>\n",
       "      <td>0.0</td>\n",
       "      <td>0</td>\n",
       "      <td>1.0</td>\n",
       "      <td>d</td>\n",
       "      <td>c</td>\n",
       "      <td>5350.0</td>\n",
       "      <td>NaN</td>\n",
       "      <td>NaN</td>\n",
       "      <td>1</td>\n",
       "      <td>22.0</td>\n",
       "      <td>2012.0</td>\n",
       "      <td>Mar,Jun,Sept,Dec</td>\n",
       "      <td>4</td>\n",
       "      <td>1</td>\n",
       "      <td>2013</td>\n",
       "    </tr>\n",
       "    <tr>\n",
       "      <th>4</th>\n",
       "      <td>1115.0</td>\n",
       "      <td>4771.0</td>\n",
       "      <td>339.0</td>\n",
       "      <td>1.0</td>\n",
       "      <td>0.0</td>\n",
       "      <td>0</td>\n",
       "      <td>1.0</td>\n",
       "      <td>d</td>\n",
       "      <td>c</td>\n",
       "      <td>5350.0</td>\n",
       "      <td>NaN</td>\n",
       "      <td>NaN</td>\n",
       "      <td>1</td>\n",
       "      <td>22.0</td>\n",
       "      <td>2012.0</td>\n",
       "      <td>Mar,Jun,Sept,Dec</td>\n",
       "      <td>5</td>\n",
       "      <td>1</td>\n",
       "      <td>2013</td>\n",
       "    </tr>\n",
       "    <tr>\n",
       "      <th>6</th>\n",
       "      <td>1115.0</td>\n",
       "      <td>6905.0</td>\n",
       "      <td>471.0</td>\n",
       "      <td>1.0</td>\n",
       "      <td>1.0</td>\n",
       "      <td>0</td>\n",
       "      <td>1.0</td>\n",
       "      <td>d</td>\n",
       "      <td>c</td>\n",
       "      <td>5350.0</td>\n",
       "      <td>NaN</td>\n",
       "      <td>NaN</td>\n",
       "      <td>1</td>\n",
       "      <td>22.0</td>\n",
       "      <td>2012.0</td>\n",
       "      <td>Mar,Jun,Sept,Dec</td>\n",
       "      <td>0</td>\n",
       "      <td>1</td>\n",
       "      <td>2013</td>\n",
       "    </tr>\n",
       "  </tbody>\n",
       "</table>\n",
       "</div>"
      ],
      "text/plain": [
       "    Store   Sales  Customers  Open  Promo StateHoliday  SchoolHoliday  \\\n",
       "1  1115.0  3697.0      305.0   1.0    0.0            0            1.0   \n",
       "2  1115.0  4297.0      300.0   1.0    0.0            0            1.0   \n",
       "3  1115.0  4540.0      326.0   1.0    0.0            0            1.0   \n",
       "4  1115.0  4771.0      339.0   1.0    0.0            0            1.0   \n",
       "6  1115.0  6905.0      471.0   1.0    1.0            0            1.0   \n",
       "\n",
       "  StoreType Assortment  CompetitionDistance  CompetitionOpenSinceMonth  \\\n",
       "1         d          c               5350.0                        NaN   \n",
       "2         d          c               5350.0                        NaN   \n",
       "3         d          c               5350.0                        NaN   \n",
       "4         d          c               5350.0                        NaN   \n",
       "6         d          c               5350.0                        NaN   \n",
       "\n",
       "   CompetitionOpenSinceYear  Promo2  Promo2SinceWeek  Promo2SinceYear  \\\n",
       "1                       NaN       1             22.0           2012.0   \n",
       "2                       NaN       1             22.0           2012.0   \n",
       "3                       NaN       1             22.0           2012.0   \n",
       "4                       NaN       1             22.0           2012.0   \n",
       "6                       NaN       1             22.0           2012.0   \n",
       "\n",
       "      PromoInterval  DayOfWeek  month  year  \n",
       "1  Mar,Jun,Sept,Dec          2      1  2013  \n",
       "2  Mar,Jun,Sept,Dec          3      1  2013  \n",
       "3  Mar,Jun,Sept,Dec          4      1  2013  \n",
       "4  Mar,Jun,Sept,Dec          5      1  2013  \n",
       "6  Mar,Jun,Sept,Dec          0      1  2013  "
      ]
     },
     "execution_count": 21,
     "metadata": {},
     "output_type": "execute_result"
    }
   ],
   "source": [
    "def fix_open(df):\n",
    "    #this function replaces all Nan's in open with 0\n",
    "    #and nan's in Promocode with 2\n",
    "    #and SchoolHoliday and StateHoliday with 0\n",
    "    df['Open'] = df['Open'].fillna(0)\n",
    "    df['Promo'] = df['Promo'].fillna(2)\n",
    "    \n",
    "    df['StateHoliday'] = df['StateHoliday'].fillna('0')   #specifically making this a string\n",
    "    df['SchoolHoliday'] = df['SchoolHoliday'].fillna(0)\n",
    "    \n",
    "    #replace competitor distance with average competitor distance (could also be 0)\n",
    "    df['CompetitionDistance'] = df['CompetitionDistance'].fillna(int(df['CompetitionDistance'].mean()))\n",
    "    return df\n",
    "\n",
    "#replace nan in open columns with zero\n",
    "rs_df = fix_open(rs_df)\n",
    "\n",
    "rs_df.head()"
   ]
  },
  {
   "cell_type": "code",
   "execution_count": 22,
   "id": "8c326d9c-c5d5-4df9-8bc2-5daa3d30d090",
   "metadata": {
    "tags": []
   },
   "outputs": [
    {
     "data": {
      "text/html": [
       "<div>\n",
       "<style scoped>\n",
       "    .dataframe tbody tr th:only-of-type {\n",
       "        vertical-align: middle;\n",
       "    }\n",
       "\n",
       "    .dataframe tbody tr th {\n",
       "        vertical-align: top;\n",
       "    }\n",
       "\n",
       "    .dataframe thead th {\n",
       "        text-align: right;\n",
       "    }\n",
       "</style>\n",
       "<table border=\"1\" class=\"dataframe\">\n",
       "  <thead>\n",
       "    <tr style=\"text-align: right;\">\n",
       "      <th></th>\n",
       "      <th>Store</th>\n",
       "      <th>Sales</th>\n",
       "      <th>Customers</th>\n",
       "      <th>Open</th>\n",
       "      <th>Promo</th>\n",
       "      <th>StateHoliday</th>\n",
       "      <th>SchoolHoliday</th>\n",
       "      <th>StoreType</th>\n",
       "      <th>Assortment</th>\n",
       "      <th>CompetitionDistance</th>\n",
       "      <th>CompetitionOpenSinceMonth</th>\n",
       "      <th>CompetitionOpenSinceYear</th>\n",
       "      <th>Promo2</th>\n",
       "      <th>Promo2SinceWeek</th>\n",
       "      <th>Promo2SinceYear</th>\n",
       "      <th>PromoInterval</th>\n",
       "      <th>DayOfWeek</th>\n",
       "      <th>month</th>\n",
       "      <th>year</th>\n",
       "    </tr>\n",
       "  </thead>\n",
       "  <tbody>\n",
       "    <tr>\n",
       "      <th>0</th>\n",
       "      <td>1115.0</td>\n",
       "      <td>3697.0</td>\n",
       "      <td>305.0</td>\n",
       "      <td>1.0</td>\n",
       "      <td>0.0</td>\n",
       "      <td>0</td>\n",
       "      <td>1.0</td>\n",
       "      <td>d</td>\n",
       "      <td>c</td>\n",
       "      <td>5350.0</td>\n",
       "      <td>NaN</td>\n",
       "      <td>NaN</td>\n",
       "      <td>1</td>\n",
       "      <td>22.0</td>\n",
       "      <td>2012.0</td>\n",
       "      <td>Mar,Jun,Sept,Dec</td>\n",
       "      <td>2</td>\n",
       "      <td>1</td>\n",
       "      <td>2013</td>\n",
       "    </tr>\n",
       "    <tr>\n",
       "      <th>1</th>\n",
       "      <td>1115.0</td>\n",
       "      <td>4297.0</td>\n",
       "      <td>300.0</td>\n",
       "      <td>1.0</td>\n",
       "      <td>0.0</td>\n",
       "      <td>0</td>\n",
       "      <td>1.0</td>\n",
       "      <td>d</td>\n",
       "      <td>c</td>\n",
       "      <td>5350.0</td>\n",
       "      <td>NaN</td>\n",
       "      <td>NaN</td>\n",
       "      <td>1</td>\n",
       "      <td>22.0</td>\n",
       "      <td>2012.0</td>\n",
       "      <td>Mar,Jun,Sept,Dec</td>\n",
       "      <td>3</td>\n",
       "      <td>1</td>\n",
       "      <td>2013</td>\n",
       "    </tr>\n",
       "    <tr>\n",
       "      <th>2</th>\n",
       "      <td>1115.0</td>\n",
       "      <td>4540.0</td>\n",
       "      <td>326.0</td>\n",
       "      <td>1.0</td>\n",
       "      <td>0.0</td>\n",
       "      <td>0</td>\n",
       "      <td>1.0</td>\n",
       "      <td>d</td>\n",
       "      <td>c</td>\n",
       "      <td>5350.0</td>\n",
       "      <td>NaN</td>\n",
       "      <td>NaN</td>\n",
       "      <td>1</td>\n",
       "      <td>22.0</td>\n",
       "      <td>2012.0</td>\n",
       "      <td>Mar,Jun,Sept,Dec</td>\n",
       "      <td>4</td>\n",
       "      <td>1</td>\n",
       "      <td>2013</td>\n",
       "    </tr>\n",
       "    <tr>\n",
       "      <th>3</th>\n",
       "      <td>1115.0</td>\n",
       "      <td>4771.0</td>\n",
       "      <td>339.0</td>\n",
       "      <td>1.0</td>\n",
       "      <td>0.0</td>\n",
       "      <td>0</td>\n",
       "      <td>1.0</td>\n",
       "      <td>d</td>\n",
       "      <td>c</td>\n",
       "      <td>5350.0</td>\n",
       "      <td>NaN</td>\n",
       "      <td>NaN</td>\n",
       "      <td>1</td>\n",
       "      <td>22.0</td>\n",
       "      <td>2012.0</td>\n",
       "      <td>Mar,Jun,Sept,Dec</td>\n",
       "      <td>5</td>\n",
       "      <td>1</td>\n",
       "      <td>2013</td>\n",
       "    </tr>\n",
       "    <tr>\n",
       "      <th>4</th>\n",
       "      <td>1115.0</td>\n",
       "      <td>6905.0</td>\n",
       "      <td>471.0</td>\n",
       "      <td>1.0</td>\n",
       "      <td>1.0</td>\n",
       "      <td>0</td>\n",
       "      <td>1.0</td>\n",
       "      <td>d</td>\n",
       "      <td>c</td>\n",
       "      <td>5350.0</td>\n",
       "      <td>NaN</td>\n",
       "      <td>NaN</td>\n",
       "      <td>1</td>\n",
       "      <td>22.0</td>\n",
       "      <td>2012.0</td>\n",
       "      <td>Mar,Jun,Sept,Dec</td>\n",
       "      <td>0</td>\n",
       "      <td>1</td>\n",
       "      <td>2013</td>\n",
       "    </tr>\n",
       "  </tbody>\n",
       "</table>\n",
       "</div>"
      ],
      "text/plain": [
       "    Store   Sales  Customers  Open  Promo StateHoliday  SchoolHoliday  \\\n",
       "0  1115.0  3697.0      305.0   1.0    0.0            0            1.0   \n",
       "1  1115.0  4297.0      300.0   1.0    0.0            0            1.0   \n",
       "2  1115.0  4540.0      326.0   1.0    0.0            0            1.0   \n",
       "3  1115.0  4771.0      339.0   1.0    0.0            0            1.0   \n",
       "4  1115.0  6905.0      471.0   1.0    1.0            0            1.0   \n",
       "\n",
       "  StoreType Assortment  CompetitionDistance  CompetitionOpenSinceMonth  \\\n",
       "0         d          c               5350.0                        NaN   \n",
       "1         d          c               5350.0                        NaN   \n",
       "2         d          c               5350.0                        NaN   \n",
       "3         d          c               5350.0                        NaN   \n",
       "4         d          c               5350.0                        NaN   \n",
       "\n",
       "   CompetitionOpenSinceYear  Promo2  Promo2SinceWeek  Promo2SinceYear  \\\n",
       "0                       NaN       1             22.0           2012.0   \n",
       "1                       NaN       1             22.0           2012.0   \n",
       "2                       NaN       1             22.0           2012.0   \n",
       "3                       NaN       1             22.0           2012.0   \n",
       "4                       NaN       1             22.0           2012.0   \n",
       "\n",
       "      PromoInterval  DayOfWeek  month  year  \n",
       "0  Mar,Jun,Sept,Dec          2      1  2013  \n",
       "1  Mar,Jun,Sept,Dec          3      1  2013  \n",
       "2  Mar,Jun,Sept,Dec          4      1  2013  \n",
       "3  Mar,Jun,Sept,Dec          5      1  2013  \n",
       "4  Mar,Jun,Sept,Dec          0      1  2013  "
      ]
     },
     "execution_count": 22,
     "metadata": {},
     "output_type": "execute_result"
    }
   ],
   "source": [
    "def fix_sales(df):\n",
    "    '''This function replaces Nan's in Sales with average sales'''\n",
    "    #calculate average sales\n",
    "    df_stats = df.groupby(['Store']).agg({'Sales':'mean'}).reset_index(drop=False)\n",
    "    \n",
    "    #join average sales to rs_df\n",
    "    df = pd.merge(df,df_stats,on='Store',suffixes=('', '_average'))\n",
    "    \n",
    "    #replace nan Sales with the mean sales of the Store\n",
    "    df.loc[df.Sales.isnull(),'Sales'] = df['Sales_average']\n",
    "    \n",
    "    df.drop(['Sales_average'],axis=1,inplace=True)\n",
    "    \n",
    "    df = df[df['Sales'] > 0]    #drop Sales equals 0\n",
    "    \n",
    "    return df\n",
    "\n",
    "rs_df = fix_sales(rs_df)\n",
    "\n",
    "rs_df.head()"
   ]
  },
  {
   "cell_type": "code",
   "execution_count": 23,
   "id": "6a9a9760-f057-4d02-b5ad-fc7eab9b8145",
   "metadata": {
    "tags": []
   },
   "outputs": [],
   "source": [
    "#drop other columns\n",
    "rs_df = rs_df.drop(['CompetitionOpenSinceMonth','CompetitionOpenSinceYear','Promo2SinceWeek','Promo2SinceYear','PromoInterval'],axis=1)"
   ]
  },
  {
   "cell_type": "markdown",
   "id": "8c27a48a-f4de-4446-ba0b-9dc0f85a663e",
   "metadata": {
    "tags": []
   },
   "source": [
    "### Feature Engineering\n",
    "\n",
    "Encodings:\n",
    "- One Hot Encode for Assortment.\n",
    "- Ordinal/Label Encode for StoreType and StateHoliday.\n",
    "\n",
    "Others:\n",
    "- Normalizing the Customers and CompetittionDistance colummns"
   ]
  },
  {
   "cell_type": "code",
   "execution_count": 24,
   "id": "72416ab9-3ac5-426a-a303-e78dd805271c",
   "metadata": {
    "tags": []
   },
   "outputs": [
    {
     "data": {
      "text/html": [
       "<div>\n",
       "<style scoped>\n",
       "    .dataframe tbody tr th:only-of-type {\n",
       "        vertical-align: middle;\n",
       "    }\n",
       "\n",
       "    .dataframe tbody tr th {\n",
       "        vertical-align: top;\n",
       "    }\n",
       "\n",
       "    .dataframe thead th {\n",
       "        text-align: right;\n",
       "    }\n",
       "</style>\n",
       "<table border=\"1\" class=\"dataframe\">\n",
       "  <thead>\n",
       "    <tr style=\"text-align: right;\">\n",
       "      <th></th>\n",
       "      <th>Store</th>\n",
       "      <th>Sales</th>\n",
       "      <th>Customers</th>\n",
       "      <th>Open</th>\n",
       "      <th>Promo</th>\n",
       "      <th>StateHoliday</th>\n",
       "      <th>SchoolHoliday</th>\n",
       "      <th>StoreType</th>\n",
       "      <th>Assortment</th>\n",
       "      <th>CompetitionDistance</th>\n",
       "      <th>Promo2</th>\n",
       "      <th>DayOfWeek</th>\n",
       "      <th>month</th>\n",
       "      <th>year</th>\n",
       "    </tr>\n",
       "  </thead>\n",
       "  <tbody>\n",
       "    <tr>\n",
       "      <th>0</th>\n",
       "      <td>1115.0</td>\n",
       "      <td>3697.0</td>\n",
       "      <td>305.0</td>\n",
       "      <td>1.0</td>\n",
       "      <td>0.0</td>\n",
       "      <td>0</td>\n",
       "      <td>1.0</td>\n",
       "      <td>d</td>\n",
       "      <td>c</td>\n",
       "      <td>5350.0</td>\n",
       "      <td>1</td>\n",
       "      <td>2</td>\n",
       "      <td>1</td>\n",
       "      <td>2013</td>\n",
       "    </tr>\n",
       "    <tr>\n",
       "      <th>1</th>\n",
       "      <td>1115.0</td>\n",
       "      <td>4297.0</td>\n",
       "      <td>300.0</td>\n",
       "      <td>1.0</td>\n",
       "      <td>0.0</td>\n",
       "      <td>0</td>\n",
       "      <td>1.0</td>\n",
       "      <td>d</td>\n",
       "      <td>c</td>\n",
       "      <td>5350.0</td>\n",
       "      <td>1</td>\n",
       "      <td>3</td>\n",
       "      <td>1</td>\n",
       "      <td>2013</td>\n",
       "    </tr>\n",
       "    <tr>\n",
       "      <th>2</th>\n",
       "      <td>1115.0</td>\n",
       "      <td>4540.0</td>\n",
       "      <td>326.0</td>\n",
       "      <td>1.0</td>\n",
       "      <td>0.0</td>\n",
       "      <td>0</td>\n",
       "      <td>1.0</td>\n",
       "      <td>d</td>\n",
       "      <td>c</td>\n",
       "      <td>5350.0</td>\n",
       "      <td>1</td>\n",
       "      <td>4</td>\n",
       "      <td>1</td>\n",
       "      <td>2013</td>\n",
       "    </tr>\n",
       "    <tr>\n",
       "      <th>3</th>\n",
       "      <td>1115.0</td>\n",
       "      <td>4771.0</td>\n",
       "      <td>339.0</td>\n",
       "      <td>1.0</td>\n",
       "      <td>0.0</td>\n",
       "      <td>0</td>\n",
       "      <td>1.0</td>\n",
       "      <td>d</td>\n",
       "      <td>c</td>\n",
       "      <td>5350.0</td>\n",
       "      <td>1</td>\n",
       "      <td>5</td>\n",
       "      <td>1</td>\n",
       "      <td>2013</td>\n",
       "    </tr>\n",
       "    <tr>\n",
       "      <th>4</th>\n",
       "      <td>1115.0</td>\n",
       "      <td>6905.0</td>\n",
       "      <td>471.0</td>\n",
       "      <td>1.0</td>\n",
       "      <td>1.0</td>\n",
       "      <td>0</td>\n",
       "      <td>1.0</td>\n",
       "      <td>d</td>\n",
       "      <td>c</td>\n",
       "      <td>5350.0</td>\n",
       "      <td>1</td>\n",
       "      <td>0</td>\n",
       "      <td>1</td>\n",
       "      <td>2013</td>\n",
       "    </tr>\n",
       "  </tbody>\n",
       "</table>\n",
       "</div>"
      ],
      "text/plain": [
       "    Store   Sales  Customers  Open  Promo StateHoliday  SchoolHoliday  \\\n",
       "0  1115.0  3697.0      305.0   1.0    0.0            0            1.0   \n",
       "1  1115.0  4297.0      300.0   1.0    0.0            0            1.0   \n",
       "2  1115.0  4540.0      326.0   1.0    0.0            0            1.0   \n",
       "3  1115.0  4771.0      339.0   1.0    0.0            0            1.0   \n",
       "4  1115.0  6905.0      471.0   1.0    1.0            0            1.0   \n",
       "\n",
       "  StoreType Assortment  CompetitionDistance  Promo2  DayOfWeek  month  year  \n",
       "0         d          c               5350.0       1          2      1  2013  \n",
       "1         d          c               5350.0       1          3      1  2013  \n",
       "2         d          c               5350.0       1          4      1  2013  \n",
       "3         d          c               5350.0       1          5      1  2013  \n",
       "4         d          c               5350.0       1          0      1  2013  "
      ]
     },
     "execution_count": 24,
     "metadata": {},
     "output_type": "execute_result"
    }
   ],
   "source": [
    "rs_df.head()"
   ]
  },
  {
   "cell_type": "code",
   "execution_count": 25,
   "id": "44a92b52-e139-4495-ba68-a5d93054fd11",
   "metadata": {
    "tags": []
   },
   "outputs": [],
   "source": [
    "#Encoding\n",
    "#ordinal_encoder for Assortment\n",
    "ce_ord = ce.OrdinalEncoder(cols = ['Assortment','StateHoliday'])\n",
    "\n",
    "#one_hot_encoder for StoreType\n",
    "ce_one = ce.OneHotEncoder(cols=['StoreType']) "
   ]
  },
  {
   "cell_type": "code",
   "execution_count": 26,
   "id": "235cb525-ffcf-482d-95c4-dd204f657bde",
   "metadata": {
    "tags": []
   },
   "outputs": [],
   "source": [
    "#set up the column transfomer\n",
    "ct = ColumnTransformer([\n",
    "        ('transformer', Normalizer(norm='l1'), ['Customers','CompetitionDistance'])\n",
    "    ], remainder='passthrough')"
   ]
  },
  {
   "cell_type": "markdown",
   "id": "3711ef98-670a-4786-b341-6585718802e7",
   "metadata": {},
   "source": [
    "### Model Development\n",
    "\n",
    "Models\n",
    "- Linear Regression Model/Pipeline (Baseline Model).\n",
    "- Random Forest\n",
    "- Gradient Boosted Trees."
   ]
  },
  {
   "cell_type": "code",
   "execution_count": 27,
   "id": "8e8594a1-9cb5-4051-a692-200bff1000d8",
   "metadata": {
    "tags": []
   },
   "outputs": [],
   "source": [
    "#estimate errors\n",
    "def metric(preds, actuals):\n",
    "    #preds = preds.reshape(-1)\n",
    "    #actuals = actuals.reshape(-1)\n",
    "    assert preds.shape == actuals.shape\n",
    "    return 100 * np.linalg.norm((actuals - preds) / actuals) / np.sqrt(preds.shape[0])"
   ]
  },
  {
   "cell_type": "code",
   "execution_count": 46,
   "id": "774c3e1d-29da-4dae-a3ff-3bf6b0195702",
   "metadata": {
    "tags": []
   },
   "outputs": [],
   "source": [
    "#split the data into X and y\n",
    "y = rs_df.Sales\n",
    "X = rs_df.drop('Sales',axis=1)\n",
    "\n",
    "X_train,X_test,y_train,y_test = train_test_split(X,y,test_size=0.2,random_state=42)"
   ]
  },
  {
   "cell_type": "markdown",
   "id": "6021baa5-b855-4dfd-8538-68c58e5ed094",
   "metadata": {
    "tags": []
   },
   "source": [
    "##### Linear Regression"
   ]
  },
  {
   "cell_type": "code",
   "execution_count": 47,
   "id": "72ca7aa9-e762-423e-8bec-fc834b5ddd72",
   "metadata": {
    "tags": []
   },
   "outputs": [],
   "source": [
    "#Build pipeline\n",
    "pipe_lc = Pipeline([('ordinal_encoder', ce_ord), \n",
    "                    ('one_hot',ce_one), \n",
    "                    ('transformer', ct),\n",
    "                    ('linear', LinearRegression())])\n",
    "\n",
    "#fit the pipeline\n",
    "pipe_lc.fit(X_train,y_train)\n",
    "\n",
    "#make predictions\n",
    "preds_lc = pipe_lc.predict(X_test)"
   ]
  },
  {
   "cell_type": "code",
   "execution_count": 48,
   "id": "c37e3280-5e87-42e0-ba67-1cf647168968",
   "metadata": {
    "tags": []
   },
   "outputs": [
    {
     "name": "stdout",
     "output_type": "stream",
     "text": [
      "The RMSPE for the Linear Regression Pipeline is 50.28095710534017\n"
     ]
    }
   ],
   "source": [
    "acc = metric(preds_lc,y_test)\n",
    "print(f'The RMSPE for the Linear Regression Pipeline is {acc}') "
   ]
  },
  {
   "cell_type": "markdown",
   "id": "ea4167a1-248a-4dd9-b4ad-a1d359a3f2bf",
   "metadata": {},
   "source": [
    "##### Random Forest"
   ]
  },
  {
   "cell_type": "code",
   "execution_count": 49,
   "id": "8a3ea3f3-6520-42ac-a1f5-db32c4f9068f",
   "metadata": {
    "tags": []
   },
   "outputs": [],
   "source": [
    "#instantiate rf model\n",
    "rf = RandomForestRegressor(max_depth=4, random_state=42, n_estimators=300)"
   ]
  },
  {
   "cell_type": "code",
   "execution_count": 50,
   "id": "1d7936db-65c8-4c3c-976c-f56c9fb7ae70",
   "metadata": {
    "tags": []
   },
   "outputs": [],
   "source": [
    "#Build pipeline\n",
    "pipe_rf = Pipeline([('ordinal_encoder', ce_ord), \n",
    "                    ('one_hot',ce_one), \n",
    "                    ('transformer', ct),\n",
    "                    ('rf', rf)])\n",
    "\n",
    "#fit the pipeline\n",
    "pipe_rf.fit(X_train,y_train)\n",
    "\n",
    "#make predictions\n",
    "preds_rf = pipe_rf.predict(X_test)"
   ]
  },
  {
   "cell_type": "code",
   "execution_count": 51,
   "id": "b08171ee-008f-4a60-b3ac-31be302c26af",
   "metadata": {
    "tags": []
   },
   "outputs": [
    {
     "name": "stdout",
     "output_type": "stream",
     "text": [
      "The RMSPE for the Linear Regression Pipeline is 48.83985893317713\n"
     ]
    }
   ],
   "source": [
    "acc_rf = metric(preds_rf,y_test)\n",
    "print(f'The RMSPE for the Linear Regression Pipeline is {acc_rf}') "
   ]
  },
  {
   "cell_type": "markdown",
   "id": "8d98b734-37e0-4e1f-80f8-c421ce07863a",
   "metadata": {},
   "source": [
    "##### Gradient Boosted Trees"
   ]
  },
  {
   "cell_type": "code",
   "execution_count": 52,
   "id": "fef27297-0df4-4f87-8e22-e88724f3083d",
   "metadata": {
    "tags": []
   },
   "outputs": [],
   "source": [
    "lgbc = lgb.LGBMRegressor(learning_rate=0.1,n_estimators=1000,max_depth=5,num_leaves=50,n_jobs=-1)"
   ]
  },
  {
   "cell_type": "code",
   "execution_count": 53,
   "id": "3eb2fa01-1200-4bd7-bc8b-6c173cb05b93",
   "metadata": {
    "tags": []
   },
   "outputs": [],
   "source": [
    "#Build pipeline\n",
    "pipe_gb = Pipeline([('ordinal_encoder', ce_ord), \n",
    "                    ('one_hot',ce_one), \n",
    "                    ('transformer', ct),\n",
    "                    ('gbt', lgbc)])\n",
    "\n",
    "#fit the pipeline\n",
    "pipe_gb.fit(X_train,y_train)\n",
    "\n",
    "#make predictions\n",
    "preds_gb = pipe_gb.predict(X_test)"
   ]
  },
  {
   "cell_type": "code",
   "execution_count": 54,
   "id": "7ab27703-7ef5-4fc4-a799-962a43944bda",
   "metadata": {
    "tags": []
   },
   "outputs": [
    {
     "name": "stdout",
     "output_type": "stream",
     "text": [
      "The RMSPE for the Gradient Boosted Trees Pipeline is 21.75445571558905\n"
     ]
    }
   ],
   "source": [
    "acc_gb = metric(preds_gb,y_test)\n",
    "print(f'The RMSPE for the Gradient Boosted Trees Pipeline is {acc_gb}') "
   ]
  },
  {
   "cell_type": "code",
   "execution_count": 55,
   "id": "3a23bf00-fdb6-41ed-86c7-25fdb8f857f0",
   "metadata": {
    "tags": []
   },
   "outputs": [],
   "source": [
    "##### Save Model for pipeline.py\n",
    "import pickle\n",
    "\n",
    "filename = './pipeline/gb_pipeline.pkl'\n",
    "pickle.dump(pipe_gb, open(filename, 'wb'))"
   ]
  },
  {
   "cell_type": "markdown",
   "id": "590c8b1d-be1f-498c-954f-70e5a1631d1f",
   "metadata": {},
   "source": [
    "#### HyperParameter Tuning / Next Steps"
   ]
  },
  {
   "cell_type": "code",
   "execution_count": 38,
   "id": "1d9897d6-ea52-4195-b68b-e487137c8729",
   "metadata": {
    "tags": []
   },
   "outputs": [],
   "source": [
    "from sklearn.model_selection import GridSearchCV\n",
    "\n",
    "#apply encoder manually\n",
    "X_train[['Assortment','StateHoliday']] = ce_ord.fit_transform(X_train[['Assortment','StateHoliday']])\n",
    "\n",
    "#one_hot_encoder for StoreType\n",
    "X_train = ce_one.fit_transform(X_train['StoreType']) "
   ]
  },
  {
   "cell_type": "code",
   "execution_count": null,
   "id": "69d1d1ef-d2f9-4bca-85c9-95b2ffb1c16f",
   "metadata": {
    "tags": []
   },
   "outputs": [],
   "source": [
    "param_grid = {'n_estimators':[500,800,1000,1200],\n",
    "              'learning_rate': [0.05, 0.07, 0.1],\n",
    "              'max_depth':[3,4,5],\n",
    "              'subsample':[0.8,0.9,1.0],\n",
    "              'num_leaves':[40,50,70,100]\n",
    "             }\n",
    "\n",
    "\n",
    "search = GridSearchCV(lgbc, param_grid, cv=5, n_jobs-1)\n",
    "search.fit(X_train,y_train)"
   ]
  },
  {
   "cell_type": "code",
   "execution_count": null,
   "id": "51c8b5c3-5eb7-43f3-b761-0d98da42d273",
   "metadata": {
    "tags": []
   },
   "outputs": [],
   "source": [
    "#get the best params\n",
    "search.best_params_"
   ]
  },
  {
   "cell_type": "markdown",
   "id": "cd667962-4575-425c-af39-28417db3889a",
   "metadata": {},
   "source": [
    "##### Final test with test data"
   ]
  },
  {
   "cell_type": "code",
   "execution_count": 56,
   "id": "c8e09856-1d5c-4b85-b0ab-214a40cf8a73",
   "metadata": {
    "tags": []
   },
   "outputs": [
    {
     "data": {
      "text/html": [
       "<div>\n",
       "<style scoped>\n",
       "    .dataframe tbody tr th:only-of-type {\n",
       "        vertical-align: middle;\n",
       "    }\n",
       "\n",
       "    .dataframe tbody tr th {\n",
       "        vertical-align: top;\n",
       "    }\n",
       "\n",
       "    .dataframe thead th {\n",
       "        text-align: right;\n",
       "    }\n",
       "</style>\n",
       "<table border=\"1\" class=\"dataframe\">\n",
       "  <thead>\n",
       "    <tr style=\"text-align: right;\">\n",
       "      <th></th>\n",
       "      <th>Date</th>\n",
       "      <th>Store</th>\n",
       "      <th>DayOfWeek</th>\n",
       "      <th>Sales</th>\n",
       "      <th>Customers</th>\n",
       "      <th>Open</th>\n",
       "      <th>Promo</th>\n",
       "      <th>StateHoliday</th>\n",
       "      <th>SchoolHoliday</th>\n",
       "    </tr>\n",
       "  </thead>\n",
       "  <tbody>\n",
       "    <tr>\n",
       "      <th>446441</th>\n",
       "      <td>2014-02-05</td>\n",
       "      <td>216.0</td>\n",
       "      <td>3.0</td>\n",
       "      <td>7512.0</td>\n",
       "      <td>905.0</td>\n",
       "      <td>1.0</td>\n",
       "      <td>1.0</td>\n",
       "      <td>0</td>\n",
       "      <td>0.0</td>\n",
       "    </tr>\n",
       "    <tr>\n",
       "      <th>446442</th>\n",
       "      <td>2014-02-05</td>\n",
       "      <td>218.0</td>\n",
       "      <td>3.0</td>\n",
       "      <td>5967.0</td>\n",
       "      <td>773.0</td>\n",
       "      <td>NaN</td>\n",
       "      <td>1.0</td>\n",
       "      <td>0</td>\n",
       "      <td>0.0</td>\n",
       "    </tr>\n",
       "    <tr>\n",
       "      <th>446443</th>\n",
       "      <td>2014-02-05</td>\n",
       "      <td>219.0</td>\n",
       "      <td>3.0</td>\n",
       "      <td>3679.0</td>\n",
       "      <td>446.0</td>\n",
       "      <td>1.0</td>\n",
       "      <td>1.0</td>\n",
       "      <td>0</td>\n",
       "      <td>0.0</td>\n",
       "    </tr>\n",
       "    <tr>\n",
       "      <th>446444</th>\n",
       "      <td>2014-02-05</td>\n",
       "      <td>220.0</td>\n",
       "      <td>3.0</td>\n",
       "      <td>5596.0</td>\n",
       "      <td>722.0</td>\n",
       "      <td>NaN</td>\n",
       "      <td>1.0</td>\n",
       "      <td>0</td>\n",
       "      <td>0.0</td>\n",
       "    </tr>\n",
       "    <tr>\n",
       "      <th>446445</th>\n",
       "      <td>2014-02-05</td>\n",
       "      <td>221.0</td>\n",
       "      <td>3.0</td>\n",
       "      <td>5761.0</td>\n",
       "      <td>530.0</td>\n",
       "      <td>1.0</td>\n",
       "      <td>1.0</td>\n",
       "      <td>0</td>\n",
       "      <td>0.0</td>\n",
       "    </tr>\n",
       "  </tbody>\n",
       "</table>\n",
       "</div>"
      ],
      "text/plain": [
       "              Date  Store  DayOfWeek   Sales  Customers  Open  Promo  \\\n",
       "446441  2014-02-05  216.0        3.0  7512.0      905.0   1.0    1.0   \n",
       "446442  2014-02-05  218.0        3.0  5967.0      773.0   NaN    1.0   \n",
       "446443  2014-02-05  219.0        3.0  3679.0      446.0   1.0    1.0   \n",
       "446444  2014-02-05  220.0        3.0  5596.0      722.0   NaN    1.0   \n",
       "446445  2014-02-05  221.0        3.0  5761.0      530.0   1.0    1.0   \n",
       "\n",
       "       StateHoliday  SchoolHoliday  \n",
       "446441            0            0.0  \n",
       "446442            0            0.0  \n",
       "446443            0            0.0  \n",
       "446444            0            0.0  \n",
       "446445            0            0.0  "
      ]
     },
     "execution_count": 56,
     "metadata": {},
     "output_type": "execute_result"
    }
   ],
   "source": [
    "#final test with test data\n",
    "test.head()"
   ]
  },
  {
   "cell_type": "code",
   "execution_count": 57,
   "id": "6118aef3-3b7c-4931-a237-253c5078f6f0",
   "metadata": {
    "tags": []
   },
   "outputs": [],
   "source": [
    "#merge df with store\n",
    "ts_df = pd.merge(test,store,on='Store',suffixes=('', '_y'))\n",
    "    \n",
    "\n",
    "ts_df = customer_zero(ts_df)\n",
    "ts_df = fixdateofweek(ts_df)\n",
    "\n",
    "#replace nan in open columns with zero\n",
    "ts_df = fix_open(ts_df)\n",
    "#fix Sales\n",
    "ts_df = fix_sales(ts_df)\n",
    "    \n",
    "#drop other columns\n",
    "ts_df = ts_df.drop(['CompetitionOpenSinceMonth','CompetitionOpenSinceYear','Promo2SinceWeek','Promo2SinceYear','PromoInterval'],axis=1)"
   ]
  },
  {
   "cell_type": "code",
   "execution_count": 58,
   "id": "ef21bf65-d91a-4aea-8f81-b969ed1087fc",
   "metadata": {
    "tags": []
   },
   "outputs": [
    {
     "name": "stdout",
     "output_type": "stream",
     "text": [
      "The RMSPE for the Gradient Boosted Trees Pipeline is 23.123567720973906\n"
     ]
    }
   ],
   "source": [
    "#drop all unneccesary columns\n",
    "y = ts_df['Sales']  #set the target column\n",
    "X = ts_df.drop(['Sales'],axis=1)\n",
    "\n",
    "#make prediction\n",
    "preds = pipe_gb.predict(X)\n",
    "score = metric(preds,y)\n",
    "\n",
    "print(f'The RMSPE for the Gradient Boosted Trees Pipeline is {score}')"
   ]
  },
  {
   "cell_type": "code",
   "execution_count": null,
   "id": "c1316d7b-4eae-4a1b-b601-a0f3e7792644",
   "metadata": {},
   "outputs": [],
   "source": []
  }
 ],
 "metadata": {
  "kernelspec": {
   "display_name": "Python 3 (ipykernel)",
   "language": "python",
   "name": "python3"
  },
  "language_info": {
   "codemirror_mode": {
    "name": "ipython",
    "version": 3
   },
   "file_extension": ".py",
   "mimetype": "text/x-python",
   "name": "python",
   "nbconvert_exporter": "python",
   "pygments_lexer": "ipython3",
   "version": "3.7.16"
  }
 },
 "nbformat": 4,
 "nbformat_minor": 5
}
