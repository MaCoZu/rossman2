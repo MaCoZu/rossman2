{
 "cells": [
  {
   "cell_type": "code",
   "execution_count": 54,
   "metadata": {},
   "outputs": [
    {
     "name": "stdout",
     "output_type": "stream",
     "text": [
      "The autoreload extension is already loaded. To reload it, use:\n",
      "  %reload_ext autoreload\n"
     ]
    }
   ],
   "source": [
    "import pandas as pd \n",
    "import functions as f\n",
    "import numpy as np\n",
    "\n",
    "import category_encoders as ce \n",
    "from sklearn.model_selection import train_test_split\n",
    "from sklearn.impute import SimpleImputer\n",
    "from sklearn.preprocessing import Normalizer\n",
    "from sklearn.preprocessing import StandardScaler\n",
    "\n",
    "from sklearn.pipeline import Pipeline\n",
    "from sklearn.pipeline import make_pipeline\n",
    "from sklearn.compose import make_column_transformer\n",
    "\n",
    "from sklearn.metrics import mean_squared_error\n",
    "\n",
    "from sklearn import set_config\n",
    "\n",
    "# Scikit-Learn estimators will be rendered as interactive diagrams\n",
    "set_config(display=\"diagram\")\n",
    "\n",
    "import warnings\n",
    "warnings.filterwarnings('ignore')\n",
    "\n",
    "# autoreload automatically reloads the modules before executing the code, \n",
    "# allowing you to see the changes immediately\n",
    "%load_ext autoreload\n",
    "%autoreload 2\n"
   ]
  },
  {
   "cell_type": "code",
   "execution_count": 28,
   "metadata": {},
   "outputs": [
    {
     "data": {
      "text/html": [
       "<div>\n",
       "<style scoped>\n",
       "    .dataframe tbody tr th:only-of-type {\n",
       "        vertical-align: middle;\n",
       "    }\n",
       "\n",
       "    .dataframe tbody tr th {\n",
       "        vertical-align: top;\n",
       "    }\n",
       "\n",
       "    .dataframe thead th {\n",
       "        text-align: right;\n",
       "    }\n",
       "</style>\n",
       "<table border=\"1\" class=\"dataframe\">\n",
       "  <thead>\n",
       "    <tr style=\"text-align: right;\">\n",
       "      <th></th>\n",
       "      <th>Date</th>\n",
       "      <th>Store</th>\n",
       "      <th>DayOfWeek</th>\n",
       "      <th>Sales</th>\n",
       "      <th>Customers</th>\n",
       "      <th>Open</th>\n",
       "      <th>Promo</th>\n",
       "      <th>StateHoliday</th>\n",
       "      <th>SchoolHoliday</th>\n",
       "    </tr>\n",
       "  </thead>\n",
       "  <tbody>\n",
       "    <tr>\n",
       "      <th>0</th>\n",
       "      <td>2013-01-01</td>\n",
       "      <td>1115.0</td>\n",
       "      <td>2.0</td>\n",
       "      <td>0.0</td>\n",
       "      <td>0.0</td>\n",
       "      <td>0.0</td>\n",
       "      <td>0.0</td>\n",
       "      <td>a</td>\n",
       "      <td>1.0</td>\n",
       "    </tr>\n",
       "    <tr>\n",
       "      <th>1</th>\n",
       "      <td>2013-01-01</td>\n",
       "      <td>379.0</td>\n",
       "      <td>2.0</td>\n",
       "      <td>0.0</td>\n",
       "      <td>0.0</td>\n",
       "      <td>0.0</td>\n",
       "      <td>0.0</td>\n",
       "      <td>a</td>\n",
       "      <td>1.0</td>\n",
       "    </tr>\n",
       "    <tr>\n",
       "      <th>2</th>\n",
       "      <td>2013-01-01</td>\n",
       "      <td>378.0</td>\n",
       "      <td>2.0</td>\n",
       "      <td>0.0</td>\n",
       "      <td>0.0</td>\n",
       "      <td>0.0</td>\n",
       "      <td>0.0</td>\n",
       "      <td>a</td>\n",
       "      <td>1.0</td>\n",
       "    </tr>\n",
       "    <tr>\n",
       "      <th>3</th>\n",
       "      <td>2013-01-01</td>\n",
       "      <td>377.0</td>\n",
       "      <td>2.0</td>\n",
       "      <td>0.0</td>\n",
       "      <td>0.0</td>\n",
       "      <td>0.0</td>\n",
       "      <td>0.0</td>\n",
       "      <td>a</td>\n",
       "      <td>1.0</td>\n",
       "    </tr>\n",
       "    <tr>\n",
       "      <th>4</th>\n",
       "      <td>2013-01-01</td>\n",
       "      <td>376.0</td>\n",
       "      <td>2.0</td>\n",
       "      <td>0.0</td>\n",
       "      <td>0.0</td>\n",
       "      <td>0.0</td>\n",
       "      <td>0.0</td>\n",
       "      <td>a</td>\n",
       "      <td>1.0</td>\n",
       "    </tr>\n",
       "  </tbody>\n",
       "</table>\n",
       "</div>"
      ],
      "text/plain": [
       "         Date   Store  DayOfWeek  Sales  Customers  Open  Promo StateHoliday  \\\n",
       "0  2013-01-01  1115.0        2.0    0.0        0.0   0.0    0.0            a   \n",
       "1  2013-01-01   379.0        2.0    0.0        0.0   0.0    0.0            a   \n",
       "2  2013-01-01   378.0        2.0    0.0        0.0   0.0    0.0            a   \n",
       "3  2013-01-01   377.0        2.0    0.0        0.0   0.0    0.0            a   \n",
       "4  2013-01-01   376.0        2.0    0.0        0.0   0.0    0.0            a   \n",
       "\n",
       "   SchoolHoliday  \n",
       "0            1.0  \n",
       "1            1.0  \n",
       "2            1.0  \n",
       "3            1.0  \n",
       "4            1.0  "
      ]
     },
     "execution_count": 28,
     "metadata": {},
     "output_type": "execute_result"
    }
   ],
   "source": [
    "data = pd.read_csv(\"./data/train.csv\")\n",
    "stores = pd.read_csv(\"./data/store.csv\")\n",
    "\n",
    "data.head()"
   ]
  },
  {
   "cell_type": "code",
   "execution_count": 29,
   "metadata": {},
   "outputs": [
    {
     "data": {
      "text/plain": [
       "(1115, 1115)"
      ]
     },
     "execution_count": 29,
     "metadata": {},
     "output_type": "execute_result"
    }
   ],
   "source": [
    "df = f.join_with_store(data)\n",
    "\n",
    "train_df, val_df = train_test_split(df, test_size=0.3, \n",
    "                                    random_state=42, stratify=df['Store'], shuffle=True)\n",
    "\n",
    "val_df.shape\n",
    "train_df.shape\n",
    "\n",
    "train_df.Store.nunique(), val_df.Store.nunique()"
   ]
  },
  {
   "cell_type": "code",
   "execution_count": 56,
   "metadata": {},
   "outputs": [],
   "source": [
    "# train_rd = f.data_cleaner(train_df)\n",
    "val_rd = f.data_cleaner(val_df)"
   ]
  },
  {
   "cell_type": "code",
   "execution_count": 53,
   "metadata": {},
   "outputs": [],
   "source": [
    "#write the cleaned data to disk\n",
    "train_rd.to_csv('./data/train_reduced.csv',index=False)"
   ]
  },
  {
   "cell_type": "code",
   "execution_count": 57,
   "metadata": {},
   "outputs": [],
   "source": [
    "val_rd.to_csv('./data/val_reduced.csv',index=False)"
   ]
  },
  {
   "cell_type": "code",
   "execution_count": 31,
   "metadata": {},
   "outputs": [],
   "source": [
    "X = train_rd.drop(columns=['Sales'])\n",
    "y = train_rd.Sales\n",
    "\n",
    "X_train, X_test, y_train, y_test = train_test_split(X, y, test_size=0.33, random_state=42)"
   ]
  },
  {
   "cell_type": "code",
   "execution_count": 32,
   "metadata": {},
   "outputs": [],
   "source": [
    "# Initialize the OrdinalEncoder with the mapping\n",
    "le = ce.OrdinalEncoder(mapping=[{'col': 'Assortment', 'mapping': {'a': 0, 'b': 1, 'c': 2}},\n",
    "                                {'col': 'StoreType',  'mapping': {'a': 0, 'b': 1, 'c': 2, 'd':3}}])\n",
    "\n",
    "ohe = ce.OneHotEncoder(cols=['Promo', 'Promo2', 'PromoInterval', 'StateHoliday'], handle_unknown=\"ignore\")\n",
    "\n",
    "cat_pipeline = Pipeline([\n",
    "    (\"label_encoder\", le),\n",
    "    ('one_hot_encoder', ohe)\n",
    "])"
   ]
  },
  {
   "cell_type": "code",
   "execution_count": 33,
   "metadata": {},
   "outputs": [],
   "source": [
    "num_pipeline = make_pipeline(SimpleImputer(strategy=\"mean\"), StandardScaler())"
   ]
  },
  {
   "cell_type": "code",
   "execution_count": 34,
   "metadata": {},
   "outputs": [],
   "source": [
    "#set up the column transfomer\n",
    "\n",
    "cat_features = ['Assortment', 'StoreType', 'Promo', 'Promo2', 'PromoInterval', 'StateHoliday']\n",
    "num_features = ['Customers','CompetitionDistance', 'Competition_Since_X_months', 'weeks_since_promo2']\n",
    "\n",
    "preprocessing = make_column_transformer(\n",
    "                (cat_pipeline, cat_features),\n",
    "                (num_pipeline, num_features), \n",
    "                remainder='passthrough')"
   ]
  },
  {
   "cell_type": "code",
   "execution_count": 47,
   "metadata": {},
   "outputs": [
    {
     "name": "stdout",
     "output_type": "stream",
     "text": [
      "Linear Regression performance metrics:\n",
      "Root Mean Square Error RMSE:             2464.6901064517547\n",
      "Root Mean Square Percantage Error RMSPE: 42.943099670318325\n"
     ]
    }
   ],
   "source": [
    "from sklearn.linear_model import LinearRegression\n",
    "\n",
    "#Build pipeline\n",
    "lin_reg = make_pipeline(preprocessing, \n",
    "                        LinearRegression(n_jobs=-1))\n",
    "\n",
    "#fit the pipeline\n",
    "lin_reg.fit(X_train,y_train)\n",
    "\n",
    "# make predictions\n",
    "lr_pred = lin_reg.predict(X_test)\n",
    "\n",
    "# score\n",
    "lr_rmse = mean_squared_error(y_test, lr_pred, squared=False)\n",
    "lr_rmspe = f.rmspe(lr_pred, y_test)\n",
    "\n",
    "print(f'Linear Regression performance metrics:')\n",
    "print(f'Root Mean Square Error RMSE:             {lr_rmse}')\n",
    "print(f'Root Mean Square Percantage Error RMSPE: {lr_rmspe}')"
   ]
  },
  {
   "cell_type": "markdown",
   "metadata": {},
   "source": [
    "## Decision Tree Regressor"
   ]
  },
  {
   "cell_type": "code",
   "execution_count": 45,
   "metadata": {},
   "outputs": [
    {
     "name": "stdout",
     "output_type": "stream",
     "text": [
      "Decision Tree Regressor performance metrics:\n",
      "Root Mean Square Error RMSE:             1424.613354902512\n",
      "Root Mean Square Percantage Error RMSPE: 21.489054391482416\n"
     ]
    }
   ],
   "source": [
    "from sklearn.tree import DecisionTreeRegressor\n",
    "\n",
    "# initialze tree pipeline \n",
    "tree_reg = make_pipeline(preprocessing, DecisionTreeRegressor(random_state=42))\n",
    "\n",
    "# fit-transform tree regressor\n",
    "tree_reg.fit(X_train, y_train)\n",
    "\n",
    "#make predictions\n",
    "pred_tree = tree_reg.predict(X_test)\n",
    "\n",
    "# score\n",
    "dt_rmspe = f.rmspe(pred_tree, y_test)\n",
    "dt_rmse = mean_squared_error(y_test, pred_tree, squared=False)\n",
    "print(f'Decision Tree Regressor performance metrics:')\n",
    "print(f'Root Mean Square Error RMSE:             {dt_rmse}')\n",
    "print(f'Root Mean Square Percantage Error RMSPE: {dt_rmspe}')"
   ]
  },
  {
   "cell_type": "markdown",
   "metadata": {},
   "source": [
    "# Random Forrest"
   ]
  },
  {
   "cell_type": "code",
   "execution_count": 52,
   "metadata": {},
   "outputs": [
    {
     "name": "stdout",
     "output_type": "stream",
     "text": [
      "Random Forrest Model performance metrics:\n",
      "Root Mean Square Error RMSE:             1741.9099230936124\n",
      "Root Mean Square Percantage Error RMSPE: 27.896006017278964\n"
     ]
    }
   ],
   "source": [
    "from sklearn.ensemble import RandomForestRegressor\n",
    "\n",
    "#Build pipeline\n",
    "pipe_rf = make_pipeline(preprocessing, \n",
    "                RandomForestRegressor(\n",
    "                    max_depth=10,\n",
    "                    min_samples_split=2, \n",
    "                    random_state=42, \n",
    "                    n_estimators=150, \n",
    "                    n_jobs=-1))\n",
    "\n",
    "\n",
    "#fit the pipeline\n",
    "pipe_rf.fit(X_train, y_train)\n",
    "\n",
    "#make predictions\n",
    "pred_rf = pipe_rf.predict(X_test)\n",
    "\n",
    "# score\n",
    "rf_rmse = mean_squared_error(y_test, pred_rf, squared=False)\n",
    "rf_rmspe = f.rmspe(pred_rf, y_test)\n",
    "print(f'Random Forrest Model performance metrics:')\n",
    "print(f'Root Mean Square Error RMSE:             {rf_rmse}')\n",
    "print(f'Root Mean Square Percantage Error RMSPE: {rf_rmspe}')"
   ]
  },
  {
   "cell_type": "code",
   "execution_count": 51,
   "metadata": {},
   "outputs": [
    {
     "name": "stdout",
     "output_type": "stream",
     "text": [
      "Ada Boost Regressor performance metrics:\n",
      "Root Mean Square Error RMSE:             6368.907935554269\n",
      "Root Mean Square Percantage Error RMSPE: 137.77578010805948\n"
     ]
    }
   ],
   "source": [
    "from sklearn.ensemble import AdaBoostRegressor\n",
    "\n",
    "#Build pipeline\n",
    "pipe_adaboost = make_pipeline(preprocessing, \n",
    "                AdaBoostRegressor(\n",
    "                    random_state=42,\n",
    "                    n_estimators=300,\n",
    "                    loss='square'))\n",
    "\n",
    "#fit the pipeline\n",
    "pipe_adaboost.fit(X_train, y_train)\n",
    "\n",
    "#make predictions\n",
    "pred_ad = pipe_adaboost.predict(X_test)\n",
    "\n",
    "# score\n",
    "ad_rmse = mean_squared_error(y_test, pred_ad, squared=False)\n",
    "ad_rmspe = f.rmspe(pred_ad, y_test)\n",
    "print(f'Ada Boost Regressor performance metrics:')\n",
    "print(f'Root Mean Square Error RMSE:             {ad_rmse}')\n",
    "print(f'Root Mean Square Percantage Error RMSPE: {ad_rmspe}')"
   ]
  }
 ],
 "metadata": {
  "kernelspec": {
   "display_name": "ml_2023",
   "language": "python",
   "name": "python3"
  },
  "language_info": {
   "codemirror_mode": {
    "name": "ipython",
    "version": 3
   },
   "file_extension": ".py",
   "mimetype": "text/x-python",
   "name": "python",
   "nbconvert_exporter": "python",
   "pygments_lexer": "ipython3",
   "version": "3.8.17"
  },
  "orig_nbformat": 4
 },
 "nbformat": 4,
 "nbformat_minor": 2
}
