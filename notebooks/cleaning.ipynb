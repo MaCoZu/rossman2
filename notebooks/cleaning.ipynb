{
 "cells": [
  {
   "cell_type": "markdown",
   "metadata": {},
   "source": [
    "# Imports"
   ]
  },
  {
   "cell_type": "code",
   "execution_count": 7,
   "metadata": {},
   "outputs": [],
   "source": [
    "import pandas as pd\n",
    "import numpy as np\n"
   ]
  },
  {
   "cell_type": "code",
   "execution_count": 124,
   "metadata": {},
   "outputs": [],
   "source": [
    "import warnings\n",
    "warnings.filterwarnings('ignore')"
   ]
  },
  {
   "cell_type": "markdown",
   "metadata": {},
   "source": [
    "# Cleaning"
   ]
  },
  {
   "cell_type": "code",
   "execution_count": 9,
   "metadata": {},
   "outputs": [
    {
     "name": "stderr",
     "output_type": "stream",
     "text": [
      "/home/mz/mambaforge/envs/ml_2023/lib/python3.8/site-packages/IPython/core/interactiveshell.py:3552: DtypeWarning: Columns (7) have mixed types.Specify dtype option on import or set low_memory=False.\n",
      "  exec(code_obj, self.user_global_ns, self.user_ns)\n"
     ]
    }
   ],
   "source": [
    "# load the data\n",
    "train = pd.read_csv('../data/train.csv')\n",
    "store = pd.read_csv('../data/store.csv')"
   ]
  },
  {
   "cell_type": "code",
   "execution_count": 287,
   "metadata": {},
   "outputs": [
    {
     "data": {
      "text/plain": [
       "Date              object\n",
       "Store            float64\n",
       "DayOfWeek        float64\n",
       "Sales            float64\n",
       "Customers        float64\n",
       "Open             float64\n",
       "Promo            float64\n",
       "StateHoliday      object\n",
       "SchoolHoliday    float64\n",
       "dtype: object"
      ]
     },
     "execution_count": 287,
     "metadata": {},
     "output_type": "execute_result"
    }
   ],
   "source": [
    "train.dtypes"
   ]
  },
  {
   "cell_type": "code",
   "execution_count": 288,
   "metadata": {},
   "outputs": [
    {
     "data": {
      "text/plain": [
       "Date             0.000000\n",
       "Store            0.030263\n",
       "DayOfWeek        0.029818\n",
       "Sales            0.029833\n",
       "Customers        0.029934\n",
       "Open             0.030083\n",
       "Promo            0.030095\n",
       "StateHoliday     0.030189\n",
       "SchoolHoliday    0.030320\n",
       "dtype: float64"
      ]
     },
     "execution_count": 288,
     "metadata": {},
     "output_type": "execute_result"
    }
   ],
   "source": [
    "# different statistics about the data\n",
    "# train.info()\n",
    "\n",
    "# check nulls (difference between NaN and 0)\n",
    "train.isnull().sum()\n",
    "(train.isnull() & train.ne(0)).sum()\n",
    "\n",
    "# see rows with NaN\n",
    "train[train['Store'].isnull()]\n",
    "\n",
    "# have look at the duplicates - they look crappy we drop them\n",
    "train[train.duplicated()].head(6)\n",
    "\n",
    "# check for question marks which are sometimes placeholder for NaN\n",
    "train.select_dtypes(exclude=np.number).apply( lambda x: x.str.contains(\"\\?\", regex=True) ).any()\n",
    "\n",
    "# what values are in StateHoliday\n",
    "train.StateHoliday.unique()\n",
    "\n",
    "train.describe().T \n",
    "train.isnull().sum()/len(train)"
   ]
  },
  {
   "cell_type": "markdown",
   "metadata": {},
   "source": [
    "# cleaning functions"
   ]
  },
  {
   "cell_type": "code",
   "execution_count": 2,
   "metadata": {},
   "outputs": [],
   "source": [
    "def encode_promo_interval(df):\n",
    "    \"\"\"custom encoding where NaN = 0\"\"\"\n",
    "    \n",
    "    df_ = df.copy()\n",
    "    d = {'Mar,Jun,Sept,Dec': 1, 'Feb,May,Aug,Nov':2, 'Jan,Apr,Jul,Oct':3, np.nan: 0}\n",
    "    df_['PromoInterval'] = df_['PromoInterval'].map(d)\n",
    "\n",
    "    return df_"
   ]
  },
  {
   "cell_type": "code",
   "execution_count": 3,
   "metadata": {},
   "outputs": [],
   "source": [
    "import pandas as pd\n",
    "import datetime\n",
    "\n",
    "def competition_since(df):\n",
    "    df_ = df.copy()\n",
    "\n",
    "    # Fill NaN values inplaces\n",
    "    df_.CompetitionOpenSinceYear.fillna(0, inplace=True)\n",
    "    df_.CompetitionOpenSinceMonth.fillna(0, inplace=True)\n",
    "\n",
    "    # Round and type convert\n",
    "    df_.CompetitionOpenSinceYear = df_.CompetitionOpenSinceYear.round().astype('int')\n",
    "    df_.CompetitionOpenSinceMonth = df_.CompetitionOpenSinceMonth.round().astype('int')\n",
    "\n",
    "    today = datetime.datetime.today()\n",
    "    \n",
    "    # Calculate since when there is competition in month\n",
    "    df_['Competition_Since_X_months'] = (today.year - df_.CompetitionOpenSinceYear) * 12 + (today.month - df_.CompetitionOpenSinceMonth)\n",
    "\n",
    "    # competition dating from the 80' does not count\n",
    "    months_since = (today.year - 1980) * 12 + today.month\n",
    "    df_.loc[df_['Competition_Since_X_months'] > months_since, ['Competition_Since_X_months']] = 0\n",
    "\n",
    "    # Set Competition_Since_X_months to 0 when there are zero months\n",
    "    df_.loc[df_['Competition_Since_X_months'] <= 0, 'Competition_Since_X_months'] = 0\n",
    "\n",
    "    # drop the columns we no longer need\n",
    "    df_.drop(columns=['CompetitionOpenSinceYear', 'CompetitionOpenSinceMonth'], inplace=True)\n",
    "\n",
    "    return df_\n"
   ]
  },
  {
   "cell_type": "code",
   "execution_count": 4,
   "metadata": {},
   "outputs": [],
   "source": [
    "import datetime\n",
    "\n",
    "\n",
    "def weeks_since_promo2(df):\n",
    "    df_ = df.copy()\n",
    "    \n",
    "    df_.Promo2SinceWeek.fillna(0, inplace=True)\n",
    "    df_.Promo2SinceYear.fillna(0, inplace=True)\n",
    "\n",
    "    df_.Promo2SinceYear = df_.Promo2SinceYear.round().astype('int')\n",
    "    df_.Promo2SinceWeek = df_.Promo2SinceWeek.round().astype('int')\n",
    "\n",
    "    # Get the current year and week\n",
    "    current_year, current_week, _ = pd.Timestamp.today().isocalendar()\n",
    "\n",
    "    # Calculate the number of weeks since the promo start date\n",
    "    df_['weeks_since_promo2'] = (current_year - df_.Promo2SinceYear) * 52 + (current_week - df_.Promo2SinceWeek)\n",
    "\n",
    "    today = datetime.datetime.today()\n",
    "    weeks_since = (today - datetime.datetime(1980, 1, 1)).days // 7\n",
    "    df_.loc[df_['weeks_since_promo2'] > weeks_since, ['weeks_since_promo2']] = 0\n",
    "\n",
    "    # drop the columns we no longer need\n",
    "    df_.drop(columns=['Promo2SinceYear', 'Promo2SinceWeek'], inplace=True)\n",
    "\n",
    "    return df_"
   ]
  },
  {
   "cell_type": "code",
   "execution_count": 5,
   "metadata": {},
   "outputs": [],
   "source": [
    "def downcaster(df):\n",
    "    df_ = df.copy()\n",
    "\n",
    "    # for now 'StateHoliday', 'SchoolHoliday', are left out\n",
    "    int_cols = ['DayOfWeek', 'Sales', 'Customers', 'Promo', \n",
    "                'Promo2', 'PromoInterval', 'Competition_Since_X_months', 'weeks_since_promo2']\n",
    "\n",
    "    for col in int_cols:\n",
    "        df_[col] = df_[col].astype('int')\n",
    "\n",
    "    return df_"
   ]
  },
  {
   "cell_type": "code",
   "execution_count": 20,
   "metadata": {},
   "outputs": [],
   "source": [
    "import datetime\n",
    "\n",
    "def cleaner(df, store):\n",
    "    \n",
    "    df_ = df.copy()\n",
    "    df_.dropna(inplace=True)\n",
    "\n",
    "    df_ = df_[df_['Open']==1]\n",
    "\n",
    "    df_ = df_[df_['Sales'] >=0]\n",
    "    df_ = df_[df_['Sales'] !=0]\n",
    "\n",
    "    # for now we don't account for Holidays\n",
    "    df_ = df_.drop(columns=['StateHoliday', 'SchoolHoliday', 'Open'])\n",
    "\n",
    "    # convert string Date to datetime\n",
    "    df_['Date'] = pd.to_datetime(df_.Date, infer_datetime_format=True)\n",
    "\n",
    "    # change normal days to 1 and holidays to 0\n",
    "    # df_['StateHoliday'] = df_.StateHoliday.apply(lambda x: 1 if x in ['0', 0.0] else 0)\n",
    "\n",
    "    # fill NaN with zeros for smooth imputing\n",
    "    # df_['CompetitionDistance'] = df_merge['CompetitionDistance'].fillna(0).astype('int')\n",
    "    \n",
    "    # join cleaned train and store data \n",
    "    df_ = pd.merge(df_, store, how='outer', on='Store')\n",
    "\n",
    "    df_ = df_.drop(columns=['Store'])\n",
    "    \n",
    "    df_ = encode_promo_interval(df_)\n",
    "\n",
    "    # engineers 'Competition_Since_X_months' feature\n",
    "    df_ = competition_since(df_)\n",
    "    \n",
    "    # engineers 'weeks_since_promo2' feature\n",
    "    df_ = weeks_since_promo2(df_)\n",
    "\n",
    "    # downcast to integers if possible\n",
    "    df_ = downcaster(df_)\n",
    "    \n",
    "    return df_\n"
   ]
  },
  {
   "cell_type": "code",
   "execution_count": 21,
   "metadata": {},
   "outputs": [
    {
     "data": {
      "text/plain": [
       "0"
      ]
     },
     "execution_count": 21,
     "metadata": {},
     "output_type": "execute_result"
    }
   ],
   "source": [
    "df_t = cleaner(train, store)\n",
    "df_t.Sales.isnull().sum()"
   ]
  },
  {
   "cell_type": "code",
   "execution_count": 335,
   "metadata": {},
   "outputs": [
    {
     "data": {
      "text/plain": [
       "Index(['Date', 'DayOfWeek', 'Sales', 'Customers', 'Promo', 'StoreType',\n",
       "       'Assortment', 'CompetitionDistance', 'Promo2', 'PromoInterval',\n",
       "       'Competition_Since_X_months', 'weeks_since_promo2'],\n",
       "      dtype='object')"
      ]
     },
     "execution_count": 335,
     "metadata": {},
     "output_type": "execute_result"
    }
   ],
   "source": [
    "# df_merge = cleaner(train, store)\n",
    "# df_merge.head()\n",
    "# df_merge.isnull().sum()\n",
    "# df_merge.dtypes\n",
    "# df_merge.columns\n",
    "\n",
    "# double-checking the new df\n",
    "# df_merge.StateHoliday.isnull().sum()\n",
    "# df_merge.StateHoliday.unique()\n",
    "\n",
    "# df_merge.SchoolHoliday.unique()\n",
    "# df_merge.StoreType.unique()\n",
    "# df_merge.Assortment.unique()\n",
    "# df_merge.CompetitionOpenSinceMonth.unique()\n",
    "# # df_merge.describe().T\n",
    "\n",
    "# df_merge.dtypes\n",
    "df_merge.isnull().sum()/len(df_merge)\n"
   ]
  },
  {
   "cell_type": "code",
   "execution_count": 358,
   "metadata": {},
   "outputs": [],
   "source": [
    "#write the cleaned data to disk\n",
    "df_merge.to_csv('./data/df_clean.csv',index=False)"
   ]
  }
 ],
 "metadata": {
  "kernelspec": {
   "display_name": "ml_2023",
   "language": "python",
   "name": "python3"
  },
  "language_info": {
   "codemirror_mode": {
    "name": "ipython",
    "version": 3
   },
   "file_extension": ".py",
   "mimetype": "text/x-python",
   "name": "python",
   "nbconvert_exporter": "python",
   "pygments_lexer": "ipython3",
   "version": "3.8.17"
  },
  "orig_nbformat": 4
 },
 "nbformat": 4,
 "nbformat_minor": 2
}
